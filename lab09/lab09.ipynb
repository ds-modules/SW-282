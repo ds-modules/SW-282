{
 "cells": [
  {
   "cell_type": "markdown",
   "metadata": {},
   "source": [
    "# SW 282: Lab 9 - Prediction\n",
    "\n",
    "---\n",
    "\n",
    "### Proessor Erin Kerrison"
   ]
  },
  {
   "cell_type": "code",
   "execution_count": null,
   "metadata": {},
   "outputs": [],
   "source": [
    "from datascience import *\n",
    "import numpy as np\n",
    "import pyreadstat\n",
    "from sklearn.metrics import r2_score\n",
    "from ipywidgets import interact, Dropdown\n",
    "import matplotlib.pyplot as plt\n",
    "%matplotlib inline\n",
    "plt.rcParams[\"figure.figsize\"] = [9,6]"
   ]
  },
  {
   "cell_type": "code",
   "execution_count": null,
   "metadata": {},
   "outputs": [],
   "source": [
    "df, _ = pyreadstat.read_sav(\"ch-16-dataset-2.sav\")\n",
    "data = Table.from_df(df)\n",
    "data"
   ]
  },
  {
   "cell_type": "markdown",
   "metadata": {},
   "source": [
    "Recall from a previous lab that we can create a scatter plot of two variables using the function `Table.scatter(x_col, y_col)`."
   ]
  },
  {
   "cell_type": "code",
   "execution_count": null,
   "metadata": {},
   "outputs": [],
   "source": [
    "data.scatter(\"Time\", \"Correct\")"
   ]
  },
  {
   "cell_type": "markdown",
   "metadata": {},
   "source": [
    "In the case if single variable linear regression we can calculate $R^2$ uaing the `sklearn` library. However, we must first fit a model to our data. For this purpose, we will use the function `np.polyfit(x, y, d)` which fits a polynomial of degree `d` to the data `x` that predicts `y`. Because we are fitting a line, we will use $d=1$. This function returns an array of model coefficients: the first value will be the slope of the line $a$ and the second will be the intercept $b$ such that\n",
    "\n",
    "$$\\Large\n",
    "y = ax+b\n",
    "$$"
   ]
  },
  {
   "cell_type": "code",
   "execution_count": null,
   "metadata": {},
   "outputs": [],
   "source": [
    "model_coeffs = np.polyfit(data.column(\"Time\"), data.column(\"Correct\"), 1)\n",
    "model_coeffs"
   ]
  },
  {
   "cell_type": "markdown",
   "metadata": {},
   "source": [
    "We can replot the scatterplot with our line of best fit using the `fit_line=True` argument."
   ]
  },
  {
   "cell_type": "code",
   "execution_count": null,
   "metadata": {},
   "outputs": [],
   "source": [
    "data.scatter(\"Time\", \"Correct\", fit_line=True)"
   ]
  },
  {
   "cell_type": "markdown",
   "metadata": {},
   "source": [
    "In the cell below, we use our `model_coeffs` array to calculate our `Correct` predictions and then use the `r2_score` function to calculate $R^2$."
   ]
  },
  {
   "cell_type": "code",
   "execution_count": null,
   "metadata": {},
   "outputs": [],
   "source": [
    "correct_pred = model_coeffs[0] * data.column(\"Time\") + model_coeffs[1]\n",
    "r2_score(data.column(\"Correct\"), correct_pred)"
   ]
  },
  {
   "cell_type": "markdown",
   "metadata": {},
   "source": [
    "In the cells below, fill in the `time` variable with an $x$ value and then run the cell to see the predicted value of `Correct`."
   ]
  },
  {
   "cell_type": "code",
   "execution_count": null,
   "metadata": {},
   "outputs": [],
   "source": [
    "time = ...\n",
    "pred = model_coeffs[0] * time + model_coeffs[1]\n",
    "print(\"At time {} the prediction for Correct is: {:.5f}\".format(time, pred))"
   ]
  },
  {
   "cell_type": "code",
   "execution_count": null,
   "metadata": {},
   "outputs": [],
   "source": [
    "time = ...\n",
    "pred = model_coeffs[0] * time + model_coeffs[1]\n",
    "print(\"At time {} the prediction for Correct is: {:.5f}\".format(time, pred))"
   ]
  },
  {
   "cell_type": "code",
   "execution_count": null,
   "metadata": {},
   "outputs": [],
   "source": [
    "time = ...\n",
    "pred = model_coeffs[0] * time + model_coeffs[1]\n",
    "print(\"At time {} the prediction for Correct is: {:.5f}\".format(time, pred))"
   ]
  },
  {
   "cell_type": "markdown",
   "metadata": {},
   "source": [
    "Now let's look at the difference between predictions and actual values. In the cell below, we write a function `show_pred_and_actual` that will predict the `Correct` value based on a given `Time` value and print both the prediction and actual value. We then create a widget that will allow you to choose different values of `Time` from the data table."
   ]
  },
  {
   "cell_type": "code",
   "execution_count": null,
   "metadata": {},
   "outputs": [],
   "source": [
    "def show_pred_and_actual(time):\n",
    "    actual = data.where(\"Time\", time).column(\"Correct\")[0]\n",
    "    pred = model_coeffs[0] * time + model_coeffs[1]\n",
    "    print(\"Time: {}\".format(time))\n",
    "    print(\"Actual value: {}\".format(actual))\n",
    "    print(\"Predicted value: {:.5f}\".format(pred))\n",
    "    \n",
    "interact(show_pred_and_actual, time=Dropdown(options=sorted(data.column(\"Time\"))));"
   ]
  },
  {
   "cell_type": "markdown",
   "metadata": {},
   "source": [
    " "
   ]
  }
 ],
 "metadata": {
  "kernelspec": {
   "display_name": "Python 3",
   "language": "python",
   "name": "python3"
  },
  "language_info": {
   "codemirror_mode": {
    "name": "ipython",
    "version": 3
   },
   "file_extension": ".py",
   "mimetype": "text/x-python",
   "name": "python",
   "nbconvert_exporter": "python",
   "pygments_lexer": "ipython3",
   "version": "3.6.8"
  }
 },
 "nbformat": 4,
 "nbformat_minor": 2
}
