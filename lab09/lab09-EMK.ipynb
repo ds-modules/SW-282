{
 "cells": [
  {
   "cell_type": "markdown",
   "metadata": {},
   "source": [
    "# SW 282: Lab 9 - Prediction\n",
    "\n",
    "---\n",
    "\n",
    "### Professor Erin Kerrison"
   ]
  },
  {
   "cell_type": "code",
   "execution_count": null,
   "metadata": {},
   "outputs": [],
   "source": [
    "from datascience import *\n",
    "import numpy as np\n",
    "import pyreadstat\n",
    "from sklearn.metrics import r2_score\n",
    "from ipywidgets import interact, Dropdown\n",
    "import matplotlib.pyplot as plt\n",
    "%matplotlib inline\n",
    "plt.rcParams[\"figure.figsize\"] = [9,6]"
   ]
  },
  {
   "cell_type": "markdown",
   "metadata": {},
   "source": [
    "Let's begin by importing one of Salkind's datasets from Chapter 16.  These data illustrate how a group of participants who took a timed test, performed on that test. The data are the average amount of time in seconds the participants took on each item (\"Time\") and the number of guesses it took to get each item correct (\"Correct\"). \n",
    "\n",
    "Please run the cell below, so you can have a look at the ten study participants' scores."
   ]
  },
  {
   "cell_type": "code",
   "execution_count": null,
   "metadata": {},
   "outputs": [],
   "source": [
    "df, _ = pyreadstat.read_sav(\"ch-16-dataset-2.sav\")\n",
    "data = Table.from_df(df)\n",
    "data"
   ]
  },
  {
   "cell_type": "markdown",
   "metadata": {},
   "source": [
    "Recall from a previous lab that we can create a scatter plot of two variables using the function `Table.scatter(x_col, y_col)`."
   ]
  },
  {
   "cell_type": "code",
   "execution_count": null,
   "metadata": {},
   "outputs": [],
   "source": [
    "data.scatter(\"Time\", \"Correct\")"
   ]
  },
  {
   "cell_type": "markdown",
   "metadata": {},
   "source": [
    "<div class=\"alert alert-info\">\n",
    "\n",
    "**QUESTION:** Based on your reading of the visualization above, what can you say about the relationship between these two variables?  What of its strength?  And its apparent direction? What is your hypothesis about the variables' association?\n",
    "\n",
    "</div>"
   ]
  },
  {
   "cell_type": "markdown",
   "metadata": {},
   "source": [
    "_**Type your answer here, replacing this text.**_"
   ]
  },
  {
   "cell_type": "markdown",
   "metadata": {},
   "source": [
    "In the case of single variable linear regression we can calculate $R^2$ uaing the `sklearn` library. However, we must first fit a model line to our data. For this purpose, we will use the function `np.polyfit(x, y, d)` which fits a polynomial of degree `d` to the data `x` that predicts `y`. Because we are fitting a line, we will use $d=1$. This function returns an array of model coefficients: the first value will be the slope of the line $a$ and the second will be the intercept $b$ such that\n",
    "\n",
    "$$\\Large\n",
    "y = ax+b\n",
    "$$"
   ]
  },
  {
   "cell_type": "code",
   "execution_count": null,
   "metadata": {},
   "outputs": [],
   "source": [
    "#Don't let any of these more advanced calculus concepts scare you!! These expressions simply \n",
    "#need to be run before we can fit a regression line.\n",
    "\n",
    "model_coeffs = np.polyfit(data.column(\"Time\"), data.column(\"Correct\"), 1)\n",
    "model_coeffs"
   ]
  },
  {
   "cell_type": "markdown",
   "metadata": {},
   "source": [
    "Now we can replot the scatterplot with our line of best fit using the `fit_line=True` argument."
   ]
  },
  {
   "cell_type": "code",
   "execution_count": null,
   "metadata": {},
   "outputs": [],
   "source": [
    "data.scatter(\"Time\", \"Correct\", fit_line=True)"
   ]
  },
  {
   "cell_type": "markdown",
   "metadata": {},
   "source": [
    "<div class=\"alert alert-info\">\n",
    "\n",
    "**QUESTION:** Does this line corroborate the scatterplot interpretation you offered above?  What does it confirm or reject? \n",
    "\n",
    "</div>"
   ]
  },
  {
   "cell_type": "markdown",
   "metadata": {},
   "source": [
    "_**Type your answer here, replacing this text.**_"
   ]
  },
  {
   "cell_type": "markdown",
   "metadata": {},
   "source": [
    "In the cell below, we use our `model_coeffs` array to calculate our `Correct` predictions and then use the `r2_score` function to calculate $R^2$."
   ]
  },
  {
   "cell_type": "code",
   "execution_count": null,
   "metadata": {},
   "outputs": [],
   "source": [
    "correct_pred = model_coeffs[0] * data.column(\"Time\") + model_coeffs[1]\n",
    "r2_score(data.column(\"Correct\"), correct_pred)"
   ]
  },
  {
   "cell_type": "markdown",
   "metadata": {},
   "source": [
    "<div class=\"alert alert-info\">\n",
    "\n",
    "**QUESTION:**  What does the $R^2$ value that you just calcuated suggest? Is that value consistent with your understanding of the scatterplot visualization and the best fit line for the data?\n",
    "\n",
    "</div>"
   ]
  },
  {
   "cell_type": "markdown",
   "metadata": {},
   "source": [
    "_**Type your answer here, replacing this text.**_"
   ]
  },
  {
   "cell_type": "markdown",
   "metadata": {},
   "source": [
    "In the cells below, fill in the `time` variable with an $x$ value and then run the cell to see the predicted value of `Correct`.  \n",
    "\n",
    "I have filled in the first cell for you and decided to see what the predicted number of guesses it takes to get each item correct, if a test-taker devoted an average of 5 seconds on each question . \n",
    "\n",
    "Please replace the elipses and run the second and third cell using an X (\"Time\") input of your choosing."
   ]
  },
  {
   "cell_type": "code",
   "execution_count": null,
   "metadata": {},
   "outputs": [],
   "source": [
    "time = 5\n",
    "pred = model_coeffs[0] * time + model_coeffs[1]\n",
    "print(\"At time {} the prediction for Correct is: {:.5f}\".format(time, pred))"
   ]
  },
  {
   "cell_type": "code",
   "execution_count": null,
   "metadata": {},
   "outputs": [],
   "source": [
    "time = ...\n",
    "pred = model_coeffs[0] * time + model_coeffs[1]\n",
    "print(\"At time {} the prediction for Correct is: {:.5f}\".format(time, pred))"
   ]
  },
  {
   "cell_type": "code",
   "execution_count": null,
   "metadata": {},
   "outputs": [],
   "source": [
    "time = ...\n",
    "pred = model_coeffs[0] * time + model_coeffs[1]\n",
    "print(\"At time {} the prediction for Correct is: {:.5f}\".format(time, pred))"
   ]
  },
  {
   "cell_type": "markdown",
   "metadata": {},
   "source": [
    "Now let's look at the difference between predictions and actual values. In the cell below, we write a function `show_pred_and_actual` that will predict the `Correct` value based on a given `Time` value and print both the prediction and actual value. We then create a widget that will allow you to choose different values of `Time` from the data table."
   ]
  },
  {
   "cell_type": "code",
   "execution_count": null,
   "metadata": {},
   "outputs": [],
   "source": [
    "def show_pred_and_actual(time):\n",
    "    actual = data.where(\"Time\", time).column(\"Correct\")[0]\n",
    "    pred = model_coeffs[0] * time + model_coeffs[1]\n",
    "    print(\"Time: {}\".format(time))\n",
    "    print(\"Actual value: {}\".format(actual))\n",
    "    print(\"Predicted value: {:.5f}\".format(pred))\n",
    "    \n",
    "interact(show_pred_and_actual, time=Dropdown(options=sorted(data.column(\"Time\"))));"
   ]
  },
  {
   "cell_type": "markdown",
   "metadata": {},
   "source": [
    "<div class=\"alert alert-info\">\n",
    "\n",
    "**QUESTION:**  Try out 3 of the time (X variable) input options. What do you notice about how the error (or difference between the predicted and actual Y values) changes as the time input changes? Does this surprise you? Why or why not?  \n",
    "\n",
    "</div>"
   ]
  },
  {
   "cell_type": "markdown",
   "metadata": {},
   "source": [
    "_**Type your answer here, replacing this text.**_"
   ]
  },
  {
   "cell_type": "markdown",
   "metadata": {},
   "source": [
    " "
   ]
  }
 ],
 "metadata": {
  "kernelspec": {
   "display_name": "Python 3",
   "language": "python",
   "name": "python3"
  },
  "language_info": {
   "codemirror_mode": {
    "name": "ipython",
    "version": 3
   },
   "file_extension": ".py",
   "mimetype": "text/x-python",
   "name": "python",
   "nbconvert_exporter": "python",
   "pygments_lexer": "ipython3",
   "version": "3.6.8"
  }
 },
 "nbformat": 4,
 "nbformat_minor": 2
}
