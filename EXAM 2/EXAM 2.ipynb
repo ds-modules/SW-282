{
 "cells": [
  {
   "cell_type": "markdown",
   "metadata": {},
   "source": [
    "# SW 282: EXAM 2\n",
    "\n",
    "---\n",
    "\n",
    "### Professor Erin Kerrison\n",
    "\n",
    "You will have 90 minutes to complete this exam. \n",
    "\n",
    "You will not receive full credit for responses that lack development or do not fully address each of the prompts.  Please feel free to use scratch paper for brainstorming purposes, but understand that you will only earn credit for responses that are recorded in your Jupyter notebook and uploaded as a PDF to bCourses.\n",
    "\n",
    "Please note that this is closed-book exam (the use of notes or study aids are prohibited), you are expected to work alone, and you may not share the content of your exam with any other students.\n",
    "\n",
    "---\n",
    "\n",
    "#### Dependencies\n",
    "\n",
    "As always let's begin by bringing in the Python libraries and packages we'll need to run our analyses:"
   ]
  },
  {
   "cell_type": "code",
   "execution_count": null,
   "metadata": {},
   "outputs": [],
   "source": [
    "from datascience import *\n",
    "import numpy as np\n",
    "import pyreadstat\n",
    "from sklearn.metrics import r2_score\n",
    "from ipywidgets import interact, Dropdown\n",
    "import matplotlib.pyplot as plt\n",
    "%matplotlib inline\n",
    "plt.rcParams[\"figure.figsize\"] = [9,6]"
   ]
  },
  {
   "cell_type": "markdown",
   "metadata": {},
   "source": [
    "Next, let's import a dataset with which you are alredy familiar: a bivariate distribution illustrating how a group of participants who took a timed test, performed on that test. These data feature the average amount of time in seconds the participants took on each item (\"Time\") and the average number of guesses it took them to get each item correct (\"Correct\").\n",
    "\n",
    "Please run the cell below, so you can have a look at the ten study participants' raw scores. "
   ]
  },
  {
   "cell_type": "code",
   "execution_count": null,
   "metadata": {},
   "outputs": [],
   "source": [
    "df, _ = pyreadstat.read_sav(\"ch-16-dataset-2.sav\")\n",
    "data = Table.from_df(df)\n",
    "data"
   ]
  },
  {
   "cell_type": "markdown",
   "metadata": {},
   "source": [
    "<div class=\"alert alert-info\">\n",
    "\n",
    "**QUESTION:** Suppose that these data indicating the number of seconds spent trying to respond to a test question were collected via a survey administered to the the test-takers 24 hours after they took the timed exam.  \n",
    "\n",
    "\n",
    "Which validity test would you deploy to evaluate the veracity of their survey repsonses? Which reliability test would you deploy to evaluate how reliable that survey response measure really is? Please be sure to describe the test and how it would be useful. (20 points)\n",
    "\n",
    "</div>"
   ]
  },
  {
   "cell_type": "markdown",
   "metadata": {},
   "source": [
    "_**PLEASE REPLACE THIS TEXT WITH YOUR REPSONSE TO BOTH QUESTIONS.**_"
   ]
  },
  {
   "cell_type": "markdown",
   "metadata": {},
   "source": [
    "Now let's create a scatterplot data visualization to help assess whether the two variables (\"Time\" and \"Correct\") are correlated."
   ]
  },
  {
   "cell_type": "code",
   "execution_count": null,
   "metadata": {},
   "outputs": [],
   "source": [
    "data.scatter(\"Time\", \"Correct\")"
   ]
  },
  {
   "cell_type": "markdown",
   "metadata": {},
   "source": [
    "<div class=\"alert alert-info\">\n",
    "\n",
    "**QUESTION:** Based on your reading of the scatterplot you just created above, what can you say about the relationship between these two variables?  What of its strength?  What of its apparent direction? (15 points)\n",
    "</div>"
   ]
  },
  {
   "cell_type": "markdown",
   "metadata": {},
   "source": [
    "_**PLEASE REPLACE THIS TEXT WITH YOUR REPSONSE TO ALL THREE QUESTIONS.**_"
   ]
  },
  {
   "cell_type": "markdown",
   "metadata": {},
   "source": [
    "<div class=\"alert alert-info\">\n",
    "\n",
    "**QUESTION:** What is the null hypothesis about the two variables' association?  What might be an alternative or reserch hypothesis about the association between the independent and dependent variable (put differently, what do you predict would happen to the dependent variable when the independent variable varies?) In your research hypothesis statement, please be sure to identify which variable is dependent on the other. (20 points)\n",
    "\n",
    "</div>"
   ]
  },
  {
   "cell_type": "markdown",
   "metadata": {},
   "source": [
    "_**PLEASE REPLACE THIS TEXT WITH YOUR REPSONSE TO BOTH QUESTIONS.**_"
   ]
  },
  {
   "cell_type": "markdown",
   "metadata": {},
   "source": [
    "In order to fit a model line to the dataset, we will once again use the function `np.polyfit(x, y, d)` which fits a polynomial of degree `d` to the data `x` that predicts `y`. This function returns an array of model coefficients. The first value will be the slope of the line $a$ and the second will be the intercept $b$ such that:\n",
    "\n",
    "$$\\Large\n",
    "y = ax+b\n",
    "$$\n",
    "\n",
    "Please run the cell below so that you can use the output to plot a best fitting regression equation for these data. "
   ]
  },
  {
   "cell_type": "code",
   "execution_count": null,
   "metadata": {},
   "outputs": [],
   "source": [
    "model_coeffs = np.polyfit(data.column(\"Time\"), data.column(\"Correct\"), 1)\n",
    "model_coeffs\n"
   ]
  },
  {
   "cell_type": "markdown",
   "metadata": {},
   "source": [
    "<div class=\"alert alert-info\">\n",
    "\n",
    "**QUESTION:** Relying on the linear regression formula shared just above, how do you interpret the output you just created?  In other words, what exactly do those two numbers tell you about the estimated relationship for how the dependent and independent variables are associated? Please be sure to speak concretely about the variables, rather than abstractly about only the numbers. (15 points)\n",
    "</div>"
   ]
  },
  {
   "cell_type": "markdown",
   "metadata": {},
   "source": [
    "_**PLEASE REPLACE THIS TEXT WITH YOUR REPSONSE.**_"
   ]
  },
  {
   "cell_type": "code",
   "execution_count": null,
   "metadata": {},
   "outputs": [],
   "source": [
    "# Now you can compute a line that reflects the regression equation you just calculated AND \n",
    "# on which you can rely to test the research hypothesis you shared above.\n",
    "\n",
    "data.scatter(\"Time\", \"Correct\", fit_line=True)"
   ]
  },
  {
   "cell_type": "markdown",
   "metadata": {},
   "source": [
    "In the three cells below, please run the code so that you can explore what this line's predicted value is for Y, given the following X inputs: 5 seconds, 10 seconds, and 200 seconds.  I have completed the necessary code for first X input (5 seconds) for you. "
   ]
  },
  {
   "cell_type": "code",
   "execution_count": null,
   "metadata": {},
   "outputs": [],
   "source": [
    "time = 5\n",
    "pred = model_coeffs[0] * time + model_coeffs[1]\n",
    "print(\"At time {} the prediction for Correct is: {:.5f}\".format(time, pred))"
   ]
  },
  {
   "cell_type": "code",
   "execution_count": null,
   "metadata": {},
   "outputs": [],
   "source": [
    "time = ...\n",
    "pred = model_coeffs[0] * time + model_coeffs[1]\n",
    "print(\"At time {} the prediction for Correct is: {:.5f}\".format(time, pred))"
   ]
  },
  {
   "cell_type": "code",
   "execution_count": null,
   "metadata": {},
   "outputs": [],
   "source": [
    "time = ...\n",
    "pred = model_coeffs[0] * time + model_coeffs[1]\n",
    "print(\"At time {} the prediction for Correct is: {:.5f}\".format(time, pred))"
   ]
  },
  {
   "cell_type": "markdown",
   "metadata": {},
   "source": [
    "<div class=\"alert alert-info\">\n",
    "\n",
    "**QUESTION:** Please FULLY interpret (referring back to the variables and what they purportedly measure) the output for each of the three X inputs you just ran.  Can you trust these predictions?  Why or why not? (15 points)\n",
    "</div>"
   ]
  },
  {
   "cell_type": "markdown",
   "metadata": {},
   "source": [
    "_**PLEASE REPLACE THIS TEXT AND ADD YOUR REPSONSE TO ALL THREE PROMPTS.**_\n",
    "\n",
    "when X=5: \n",
    "\n",
    "when X=10:\n",
    "\n",
    "when X=200:"
   ]
  },
  {
   "cell_type": "markdown",
   "metadata": {},
   "source": [
    "<div class=\"alert alert-info\">\n",
    "\n",
    "**QUESTION:** Based on what you were able to infer from this dataset, would you reject the null hypothesis that you shared earlier?  Why or why not? What esle would you want to know in order to confidently reject the null hypothesis about these two variables and bet that you would be correct 95% of the time? (15 points)\n",
    "</div>"
   ]
  },
  {
   "cell_type": "markdown",
   "metadata": {},
   "source": [
    "_**PLEASE REPLACE THIS TEXT WITH YOUR REPSONSE TO ALL THREE QUESTIONS.**_"
   ]
  },
  {
   "cell_type": "markdown",
   "metadata": {},
   "source": [
    "---\n",
    "\n",
    "## Submission\n",
    "\n",
    "Congratulations on finishing your second exam! To turn in this completed lab, please save your work and then go to File > Download as > PDF via Chrome and then upload the PDF to bCourses.\n",
    "\n",
    "---\n",
    "Notebook developed by: Chris Pyles and Erin Kerrison \n",
    "\n",
    "Data Science Modules: http://data.berkeley.edu/education/modules"
   ]
  }
 ],
 "metadata": {
  "kernelspec": {
   "display_name": "Python 3",
   "language": "python",
   "name": "python3"
  },
  "language_info": {
   "codemirror_mode": {
    "name": "ipython",
    "version": 3
   },
   "file_extension": ".py",
   "mimetype": "text/x-python",
   "name": "python",
   "nbconvert_exporter": "python",
   "pygments_lexer": "ipython3",
   "version": "3.6.8"
  }
 },
 "nbformat": 4,
 "nbformat_minor": 2
}
