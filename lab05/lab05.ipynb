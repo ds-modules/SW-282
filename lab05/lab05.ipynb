{
 "cells": [
  {
   "cell_type": "markdown",
   "metadata": {},
   "source": [
    "# SW 282: Lab 5 - Plotting in Python\n",
    "\n",
    "---\n",
    "\n",
    "### Proessor Erin Kerrison\n",
    "\n",
    "In this lab, you will learn about matplotlib, Python's plotting library, and how to use it to make different types of data visualizations.\n",
    "\n",
    "---\n",
    "\n",
    "### Table of Contents\n",
    "\n",
    "1. [Introduction to `matplotlib`](#section-1) <br>\n",
    "&nbsp;&nbsp;&nbsp; a. [Introduction](#section-1a) <br>\n",
    "&nbsp;&nbsp;&nbsp; b. [Basics of matplotlib](#section-1b) <br>\n",
    "&nbsp;&nbsp;&nbsp; c. [Types of Plots](#section-1c) <br>\n",
    "&nbsp;&nbsp;&nbsp; d. [Customizations](#section-1d) <br>\n",
    "2. [Practice](#section-2) <br>\n",
    "&nbsp;&nbsp;&nbsp; a. [Line Graphs](#section-2a) <br>\n",
    "&nbsp;&nbsp;&nbsp; b. [Bar Graphs](#section-2b) <br>\n",
    "&nbsp;&nbsp;&nbsp; c. [Histograms](#section-2c) <br>\n",
    "3. [Choosing Plots](#section-3) <br>\n",
    "\n",
    "---"
   ]
  },
  {
   "cell_type": "code",
   "execution_count": null,
   "metadata": {},
   "outputs": [],
   "source": [
    "from datascience import *\n",
    "import pandas as pd\n",
    "import numpy as np\n",
    "import matplotlib.pyplot as plt\n",
    "plt.style.use(\"fivethirtyeight\")\n",
    "from ipywidgets import interact, IntSlider\n",
    "import ipywidgets as widgets\n",
    "import warnings\n",
    "warnings.simplefilter('ignore', FutureWarning)\n",
    "%matplotlib inline\n",
    "from lab05_plots import *"
   ]
  },
  {
   "cell_type": "markdown",
   "metadata": {},
   "source": [
    "## 1. Introduction to `matplotlib` <a id=\"section-1\"></a>"
   ]
  },
  {
   "cell_type": "markdown",
   "metadata": {},
   "source": [
    "### 1a. Introduction <a id=\"section-1a\"></a>\n",
    "\n",
    "*What is matplotlib?*\n",
    "\n",
    "> Here's the Wikipedia definition: \"matplotlib is a plotting library for the Python programming language and its numerical mathematics extension NumPy.\"\n",
    "\n",
    "Basically, matplotlib is a cool way we can create plots. \n",
    "\n",
    "A note on visualization in general: Visualization is SUPER important in data science. Sometimes, we create visualizations to examine our data before we begin analysis. Other times, we include visualizations in our final reports to convey important information in a nice manner.\n",
    "\n",
    "With that, let's learn about matplotlib! Let's import it as well as numpy to start us off!"
   ]
  },
  {
   "cell_type": "markdown",
   "metadata": {},
   "source": [
    "### 1b. Basics of matplotlib <a id=\"section-1b\"></a>\n",
    "\n",
    "First, let's talk about how matplotlib works in general. Here's how we do things: we work with the `plt` module (we imported matplotlib as `plt`, so that's the name we're going to use now), adding things to our plot one by one. Then, when we're done adding all of the things we want to add, we call `plt.show()` to display our plot with all of its features!\n",
    "\n",
    "Again, here's the general framework:\n",
    "\n",
    "```python\n",
    "plt.<...> # Adding things to our plot\n",
    "plt.<...> # Adding things to our plot\n",
    "plt.<...> # Adding things to our plot\n",
    "```\n",
    "\n",
    "Now that we know that, let's go ahead and start doing fun stuff!\n",
    "\n",
    "**A quick note:** Look up in the dependencies cell above, where we import matplotlib. Notice the line that says `%matplotlib inline`? That is a special command in Jupyter Notebooks that tells the notebook to display our graphs right below the cell in which they're generated. If you don't include that command _somewhere_ in your notebook, your plots won't render."
   ]
  },
  {
   "cell_type": "markdown",
   "metadata": {},
   "source": [
    "### 1c. Types of Plots <a id=\"section-1c\"></a>\n",
    "\n",
    "#### Simple Line Plot\n",
    "\n",
    "Let's see how to create a line plot with matplotlib. What do you need to create a line? x and y coordinates of course! Let's make those:"
   ]
  },
  {
   "cell_type": "code",
   "execution_count": null,
   "metadata": {},
   "outputs": [],
   "source": [
    "x = [1, 2, 3]\n",
    "y = [4, 5, 6]"
   ]
  },
  {
   "cell_type": "markdown",
   "metadata": {},
   "source": [
    "To plot a line plot with these two arrays is easy! We need to call the plot function from plt, and pass in the x and y arrays. That's it!"
   ]
  },
  {
   "cell_type": "code",
   "execution_count": null,
   "metadata": {},
   "outputs": [],
   "source": [
    "plt.plot(x, y);"
   ]
  },
  {
   "cell_type": "markdown",
   "metadata": {},
   "source": [
    "(Note the semicolon `;` in the call above. If you include this on the last line of your matplotlib call, Jupyter knows not to print out some annoying text supplied by matplotlib.)"
   ]
  },
  {
   "cell_type": "markdown",
   "metadata": {},
   "source": [
    "<div class=\"alert alert-info\">\n",
    "\n",
    "**QUESTION:** Plot the $x = y$ line by defining your own `x` and `y` arrays and then using matplotlib!\n",
    "\n",
    "</div>"
   ]
  },
  {
   "cell_type": "code",
   "execution_count": null,
   "metadata": {},
   "outputs": [],
   "source": [
    "..."
   ]
  },
  {
   "cell_type": "markdown",
   "metadata": {},
   "source": [
    "#### Bar Charts\n",
    "\n",
    "Wow, line plots sure were easy! Let's move on to more of a challenge: bar charts. To review, a bar chart consists of one or many bars. Each bar represents a different category of a categorical variable, and the height or y-value of each bar is the value of that category. \n",
    "\n",
    "For example, say we had the counts of the animals your friends owned. We could visualize this with a bar chart. In fact, let's do exactly that!"
   ]
  },
  {
   "cell_type": "code",
   "execution_count": null,
   "metadata": {},
   "outputs": [],
   "source": [
    "animals = [\"Cat\", \"Dog\", \"Bird\", \"Zebra\"]\n",
    "counts = [280, 120, 60, 3]"
   ]
  },
  {
   "cell_type": "markdown",
   "metadata": {},
   "source": [
    "We are going to use the `plt.bar` function. The required arguments are two things: \n",
    "\n",
    "1) `left`, which is a sequence of scalars, which represents the x coordinates of the left sides of the bars\n",
    "\n",
    "2) `right`, which is also a sequence of scalars, which represents the heights of the bars\n",
    "\n",
    "This may be a bit confusing, but here's what we're going to use for `left`: the array starting with numbers 0, 1, ..., up to the number of bars we want in our bar chart. We can accomplish with `np.arange`.\n",
    "\n",
    "As a reminder, `np.arange(x)` creates an array with numbers 0, 1, ..., x - 1, which is exactly what we want!"
   ]
  },
  {
   "cell_type": "code",
   "execution_count": null,
   "metadata": {},
   "outputs": [],
   "source": [
    "left = np.arange(len(animals))"
   ]
  },
  {
   "cell_type": "markdown",
   "metadata": {},
   "source": [
    "Right would just be the counts, which we already have. Let's go ahead and plot our bar chart!"
   ]
  },
  {
   "cell_type": "code",
   "execution_count": null,
   "metadata": {},
   "outputs": [],
   "source": [
    "plt.bar(left, counts);"
   ]
  },
  {
   "cell_type": "markdown",
   "metadata": {},
   "source": [
    "Hmm... this doesn't seem to be very informative. Our array for `left` placed our bars nicely, but we don't actually want those x-values there. We want labels which are our animals! Here's how we'll accomplish that:"
   ]
  },
  {
   "cell_type": "code",
   "execution_count": null,
   "metadata": {},
   "outputs": [],
   "source": [
    "plt.bar(left, counts)\n",
    "plt.xticks(left, animals);"
   ]
  },
  {
   "cell_type": "markdown",
   "metadata": {},
   "source": [
    "Basically, what we did was change our x-labels from the numbers to the labels for the animals with the function `xticks`."
   ]
  },
  {
   "cell_type": "markdown",
   "metadata": {},
   "source": [
    "<div class=\"alert alert-info\">\n",
    "\n",
    "**QUESTION:** Create your own bar chart! This time, we want you to plot the names of fruits against their counts.\n",
    "\n",
    "</div>"
   ]
  },
  {
   "cell_type": "code",
   "execution_count": null,
   "metadata": {},
   "outputs": [],
   "source": [
    "fruits = [\"strawberry\", \"blueberry\", \"cantaloupe\", \"orange\", \"apple\"]\n",
    "fruit_counts = [100, 230, 3, 52, 64]\n",
    "\n",
    "..."
   ]
  },
  {
   "cell_type": "markdown",
   "metadata": {},
   "source": [
    "#### Histograms\n",
    "\n",
    "This is the final kind of plot we're going to learn today. Histograms! To review, histograms are \"a diagram consisting of rectangles whose area is proportional to the frequency of a variable and whose width is equal to the class interval.\"\n",
    "\n",
    "Let's create a histogram of exam scores."
   ]
  },
  {
   "cell_type": "code",
   "execution_count": null,
   "metadata": {},
   "outputs": [],
   "source": [
    "scores = [80, 96, 78, 100, 23, 79, 93, 95]\n",
    "\n",
    "plt.hist(scores);"
   ]
  },
  {
   "cell_type": "markdown",
   "metadata": {},
   "source": [
    "Wow, that was easy! Why don't you try?"
   ]
  },
  {
   "cell_type": "markdown",
   "metadata": {},
   "source": [
    "<div class=\"alert alert-info\">\n",
    "\n",
    "**QUESTION:** Create a histogram for these exam scores in `other_scores`.\n",
    "\n",
    "</div>"
   ]
  },
  {
   "cell_type": "code",
   "execution_count": null,
   "metadata": {},
   "outputs": [],
   "source": [
    "other_scores = [83, 28, 12, 34, 29, 89]\n",
    "\n",
    "..."
   ]
  },
  {
   "cell_type": "markdown",
   "metadata": {},
   "source": [
    "### 1d. Customizations <a id=\"section-1d\"></a>\n",
    "\n",
    "Wow, we've learned so many plots today! However you may notice... our plots are pretty basic. They have the main plot and that's it. Wouldn't it be nice to add in things like titles and x-labels and colors? Let's learn how to do that!\n",
    "\n",
    "Basically, we just need to add on more \"layers\" to our plot before calling show. Here are a few things we can add:\n",
    "\n",
    "#### `title`\n",
    "\n",
    "We can add a title to our plot by using `plt.title([name])`"
   ]
  },
  {
   "cell_type": "code",
   "execution_count": null,
   "metadata": {},
   "outputs": [],
   "source": [
    "plt.plot(x, y)\n",
    "plt.title(\"My Line Plot!\");"
   ]
  },
  {
   "cell_type": "markdown",
   "metadata": {},
   "source": [
    "#### `xlabel`, `ylabel`\n",
    "\n",
    "We can add labels for our x and y axes with these functions."
   ]
  },
  {
   "cell_type": "code",
   "execution_count": null,
   "metadata": {},
   "outputs": [],
   "source": [
    "plt.plot(x, y)\n",
    "plt.title(\"My Line Plot!\")\n",
    "plt.xlabel(\"cats\")\n",
    "plt.ylabel(\"dogs\");"
   ]
  },
  {
   "cell_type": "markdown",
   "metadata": {
    "collapsed": true
   },
   "source": [
    "#### Adding a splash of color!\n",
    "\n",
    "Let's figure out how to make our line a different color than what it is now! It's also pretty easy, we just need to add an extra thing to our plot call on `plt`."
   ]
  },
  {
   "cell_type": "code",
   "execution_count": null,
   "metadata": {},
   "outputs": [],
   "source": [
    "plt.plot(x, y, color='green') # We added color = 'green'\n",
    "plt.title(\"My Line Plot!\")\n",
    "plt.xlabel(\"cats\")\n",
    "plt.ylabel(\"dogs\");"
   ]
  },
  {
   "cell_type": "markdown",
   "metadata": {},
   "source": [
    "<div class=\"alert alert-info\">\n",
    "\n",
    "**QUESTION:** Your turn! Go ahead and customize the barchart we created earlier. Make it look super nice!\n",
    "\n",
    "</div>"
   ]
  },
  {
   "cell_type": "code",
   "execution_count": null,
   "metadata": {},
   "outputs": [],
   "source": [
    "# Add your customizations to the calls below!\n",
    "plt.bar(left, counts)\n",
    "plt.xticks(left, animals);"
   ]
  },
  {
   "cell_type": "markdown",
   "metadata": {},
   "source": [
    "## 2. Practice <a id=\"section-2\"></a>\n",
    "\n",
    "In this section, we'll practice our `matplotlib` functions on a real-world data set. We'll also work through thinking about what types of plots are best to answer different types of questions."
   ]
  },
  {
   "cell_type": "code",
   "execution_count": null,
   "metadata": {},
   "outputs": [],
   "source": [
    "hybrid = Table.read_table(\"data/hybrid.csv\")\n",
    "hybrid"
   ]
  },
  {
   "cell_type": "markdown",
   "metadata": {},
   "source": [
    "### 2a. Line Graphs <a id=\"section-2a\"></a>\n",
    "\n",
    "Let's start by looking at something that is good at being represented by line graphs: time trends. In the cell below, we use our `hybrid` dataset to create a plot of how the `acceleration` changes by `year`. To start this, we will group the table `hybrid` by year and take the average of the `acceleration`."
   ]
  },
  {
   "cell_type": "code",
   "execution_count": null,
   "metadata": {},
   "outputs": [],
   "source": [
    "by_year = hybrid.group(\"year\", np.mean)\n",
    "plt.plot(by_year.column(\"year\"), by_year.column(\"acceleration mean\"))\n",
    "plt.title(\"Acceleration by Year\")\n",
    "plt.xlabel(\"Year\")\n",
    "plt.ylabel(\"Acceleration\")\n",
    "plt.xticks(np.arange(1998, 2013, 2));"
   ]
  },
  {
   "cell_type": "markdown",
   "metadata": {},
   "source": [
    "As you can see, there is a generally positive trend in the acceleration over time. If we wanted to plot multiple values, we can stack plots on top of each other using repeated plot calls, as shown in the cell below."
   ]
  },
  {
   "cell_type": "code",
   "execution_count": null,
   "metadata": {},
   "outputs": [],
   "source": [
    "plt.plot(by_year.column(\"year\"), by_year.column(\"acceleration mean\"))\n",
    "plt.plot(by_year.column(\"year\"), by_year.column(\"mpg mean\"))\n",
    "plt.title(\"Acceleration by Year\")\n",
    "plt.xlabel(\"Year\")\n",
    "plt.legend(make_array(\"Acceleration\", \"MPG\"))\n",
    "plt.xticks(np.arange(1998, 2013, 2));"
   ]
  },
  {
   "cell_type": "markdown",
   "metadata": {},
   "source": [
    "Notice in the plot above that we have included a legend; this is accomplished using the call `plt.legend` which takes an array of labels. This array should correspond to the order in which you call your `plt` functions. Since we called `plt.plot` on `acceleration` and then `mpg`, our legend call was\n",
    "\n",
    "```python\n",
    "plt.legend(make_array(\"Acceleration\", \"MPG\"))\n",
    "```\n",
    "\n",
    "The labels in your legend do not need to match the column labels."
   ]
  },
  {
   "cell_type": "markdown",
   "metadata": {},
   "source": [
    "Let's say that we didn't want to see this trend over the whole interval, but that we were only interested in values from, say, 2000 to 2008. We can cut the span of our plot by setting limits on the axes. This is done using `plt.xlim` and `plt.ylim`, which takes an array of two values: the first is the low end of the range, and the second is the upper end."
   ]
  },
  {
   "cell_type": "code",
   "execution_count": null,
   "metadata": {},
   "outputs": [],
   "source": [
    "plt.plot(by_year.column(\"year\"), by_year.column(\"acceleration mean\"))\n",
    "plt.plot(by_year.column(\"year\"), by_year.column(\"mpg mean\"))\n",
    "plt.title(\"Acceleration by Year\")\n",
    "plt.xlabel(\"Year\")\n",
    "plt.xlim(make_array(2000, 2008))\n",
    "plt.legend(make_array(\"Acceleration\", \"MPG\"))\n",
    "plt.xticks(np.arange(1998, 2013, 2));"
   ]
  },
  {
   "cell_type": "markdown",
   "metadata": {},
   "source": [
    "<div class=\"alert alert-info\">\n",
    "\n",
    "**QUESTION:** Create a line plot of the `msrp` variable. Include axis labels and a title. Set the color of the line to `\"green\"`.\n",
    "\n",
    "</div>\n",
    "\n",
    "You will need to take the MSRP mean grouped by year. The table `by_year` has already been created for you above. Use the column `msrp mean` from that table in your plot. Look at the calls above if you get stuck."
   ]
  },
  {
   "cell_type": "code",
   "execution_count": null,
   "metadata": {},
   "outputs": [],
   "source": [
    "..."
   ]
  },
  {
   "cell_type": "markdown",
   "metadata": {},
   "source": [
    "### 2b. Bar Graphs <a id=\"section-2b\"></a>\n",
    "\n",
    "In this section, we'll take a quick look at generating bar graphs. We'll do a quick example using a horizontal bar graph of the number of items in each `class`. To get this data, we need to group the `hybrid` table by `class` and get the count of each unique value in that column. This is done for you in the cell below."
   ]
  },
  {
   "cell_type": "code",
   "execution_count": null,
   "metadata": {},
   "outputs": [],
   "source": [
    "counts = hybrid.group(\"class\")\n",
    "counts"
   ]
  },
  {
   "cell_type": "markdown",
   "metadata": {},
   "source": [
    "If we wanted to create a horizontal bar graph, we would do something similar to that above, but we would use the call `plt.barh` and set the `yticks` instead of `xticks`:"
   ]
  },
  {
   "cell_type": "code",
   "execution_count": null,
   "metadata": {},
   "outputs": [],
   "source": [
    "plt.barh(np.arange(counts.num_rows), counts.column(\"count\"))\n",
    "plt.yticks(np.arange(counts.num_rows), counts.column(\"class\"))\n",
    "plt.xlabel(\"Count\")\n",
    "plt.ylabel(\"Class\");"
   ]
  },
  {
   "cell_type": "markdown",
   "metadata": {},
   "source": [
    "In this example, we can think of the year as another _categorical variable_ (that is, one which takes on only a specific set of possible values). Because of this, we can generate a bar graph of the number of vehicles in our data from each year to get an idea of how our data is spread over time."
   ]
  },
  {
   "cell_type": "markdown",
   "metadata": {},
   "source": [
    "<div class=\"alert alert-info\">\n",
    "\n",
    "**QUESTION:** Create a horizontal bar graph of the `year` variable. Include axis labels.\n",
    "\n",
    "</div>\n",
    "\n",
    "To get the count of rows for each year, we have provided you with the table `year_counts`, which is structured in the same way as `counts` but for years instead of classes."
   ]
  },
  {
   "cell_type": "code",
   "execution_count": null,
   "metadata": {},
   "outputs": [],
   "source": [
    "year_counts = hybrid.group(\"year\")\n",
    "..."
   ]
  },
  {
   "cell_type": "markdown",
   "metadata": {},
   "source": [
    "### 2c. Histograms  <a id=\"section-2c\"></a>\n",
    "\n",
    "Histograms are good for getting an idea of the **distribution** of a variable, which describes probability that any number will be the value of that variable. Let's think about the distribution of the MSRP of the hybrid vehicles. Because histograms deal with the frequencies of certain values, the call `plt.hist` only requires one argument: the array of values that we want to see the distribution of."
   ]
  },
  {
   "cell_type": "code",
   "execution_count": null,
   "metadata": {},
   "outputs": [],
   "source": [
    "plt.hist(hybrid.column(\"msrp\"));"
   ]
  },
  {
   "cell_type": "markdown",
   "metadata": {},
   "source": [
    "The histogram defaults to 10 _bins_ of equal size; a bin is a subset of the number line into which we will place values in the histogram. We can change the number of bins by setting the `bins` argument to an integer:"
   ]
  },
  {
   "cell_type": "code",
   "execution_count": null,
   "metadata": {},
   "outputs": [],
   "source": [
    "plt.hist(hybrid.column(\"msrp\"), bins=20);"
   ]
  },
  {
   "cell_type": "markdown",
   "metadata": {},
   "source": [
    "Now, we can see more minute fluxuations in the data that weren't visible before, e.g. the dip just after \\\\$40,000. We can also use fewer bins:"
   ]
  },
  {
   "cell_type": "code",
   "execution_count": null,
   "metadata": {},
   "outputs": [],
   "source": [
    "plt.hist(hybrid.column(\"msrp\"), bins=5);"
   ]
  },
  {
   "cell_type": "markdown",
   "metadata": {},
   "source": [
    "Now, we have lost some of the granularity of our data because we have too few bins.\n",
    "\n",
    "#### On the number of bins\n",
    "\n",
    "Although it may seem logical to want as many bins as possible, it is in fact true that having too many bins may lead you to draw conclusions from your data that aren't valid. For example, with 20 bins we see a small dip just after \\\\$40,000. However, this could just be a peculiarity due to random chance of our data. It is always a dilemma when drawing histograms to know how many bins to use; in the end, the best idea is to use enough that you see a good trend, but not so many that the trend has lots of hills and valleys. \n",
    "\n",
    "Run the cell below so that you can see how the number of bins affects the histogram of the data."
   ]
  },
  {
   "cell_type": "code",
   "execution_count": null,
   "metadata": {},
   "outputs": [],
   "source": [
    "def msrp_hist(bins):\n",
    "    plt.hist(hybrid.column(\"msrp\"), bins=bins);\n",
    "    \n",
    "interact(msrp_hist, bins=IntSlider(value=10, min=1, max=50));"
   ]
  },
  {
   "cell_type": "markdown",
   "metadata": {},
   "source": [
    "For the distribution of the `msrp` variable, I think that the right number of bins (that is, the one with enough but not too much detail) is 10."
   ]
  },
  {
   "cell_type": "markdown",
   "metadata": {},
   "source": [
    "<div class=\"alert alert-info\">\n",
    "\n",
    "**QUESTION:** Create a histogram of the `mpg` variable. Choose an appropriate number of bins and label the x-axis.\n",
    "\n",
    "</div>"
   ]
  },
  {
   "cell_type": "code",
   "execution_count": null,
   "metadata": {},
   "outputs": [],
   "source": [
    "..."
   ]
  },
  {
   "cell_type": "markdown",
   "metadata": {},
   "source": [
    "## 3. Choosing Plots <a id=\"section-3\"></a>\n",
    "\n",
    "In this section, we will think about which types of plots are best to answer certain questions."
   ]
  },
  {
   "cell_type": "markdown",
   "metadata": {},
   "source": [
    "<div class=\"alert alert-info\">\n",
    "\n",
    "**QUESTION:** For this section, each code cell will generate four plots, each with a letter label. In the Markdown cell below each plot, write down which plot is the best to answer the question at the top of the figure, and justify your reasoning.\n",
    "\n",
    "</div>"
   ]
  },
  {
   "cell_type": "code",
   "execution_count": null,
   "metadata": {},
   "outputs": [],
   "source": [
    "part_3_plot_1()"
   ]
  },
  {
   "cell_type": "markdown",
   "metadata": {},
   "source": [
    "_Type your answer here, replacing this text._"
   ]
  },
  {
   "cell_type": "code",
   "execution_count": null,
   "metadata": {},
   "outputs": [],
   "source": [
    "part_3_plot_2()"
   ]
  },
  {
   "cell_type": "markdown",
   "metadata": {},
   "source": [
    "_Type your answer here, replacing this text._"
   ]
  },
  {
   "cell_type": "code",
   "execution_count": null,
   "metadata": {},
   "outputs": [],
   "source": [
    "part_3_plot_3()"
   ]
  },
  {
   "cell_type": "markdown",
   "metadata": {},
   "source": [
    "_Type your answer here, replacing this text._"
   ]
  },
  {
   "cell_type": "code",
   "execution_count": null,
   "metadata": {},
   "outputs": [],
   "source": [
    "part_3_plot_4()"
   ]
  },
  {
   "cell_type": "markdown",
   "metadata": {},
   "source": [
    "_Type your answer here, replacing this text._"
   ]
  },
  {
   "cell_type": "markdown",
   "metadata": {},
   "source": [
    "---\n",
    "\n",
    "## Submission\n",
    "\n",
    "Congrats on finishing another lab notebook! To turn in this lab assignment, go to File > Download as > PDF via Chrome and upload the PDF to bCourses.\n",
    "\n",
    "---\n",
    "Notebook developed by: Chris Pyles\n",
    "\n",
    "Data Science Modules: http://data.berkeley.edu/education/modules"
   ]
  },
  {
   "cell_type": "markdown",
   "metadata": {},
   "source": [
    " "
   ]
  }
 ],
 "metadata": {
  "@webio": {
   "lastCommId": null,
   "lastKernelId": null
  },
  "kernelspec": {
   "display_name": "Python 3",
   "language": "python",
   "name": "python3"
  },
  "language_info": {
   "codemirror_mode": {
    "name": "ipython",
    "version": 3
   },
   "file_extension": ".py",
   "mimetype": "text/x-python",
   "name": "python",
   "nbconvert_exporter": "python",
   "pygments_lexer": "ipython3",
   "version": "3.6.8"
  },
  "varInspector": {
   "cols": {
    "lenName": 16,
    "lenType": 16,
    "lenVar": 40
   },
   "kernels_config": {
    "python": {
     "delete_cmd_postfix": "",
     "delete_cmd_prefix": "del ",
     "library": "var_list.py",
     "varRefreshCmd": "print(var_dic_list())"
    },
    "r": {
     "delete_cmd_postfix": ") ",
     "delete_cmd_prefix": "rm(",
     "library": "var_list.r",
     "varRefreshCmd": "cat(var_dic_list()) "
    }
   },
   "types_to_exclude": [
    "module",
    "function",
    "builtin_function_or_method",
    "instance",
    "_Feature"
   ],
   "window_display": false
  }
 },
 "nbformat": 4,
 "nbformat_minor": 2
}
