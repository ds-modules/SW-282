{
 "cells": [
  {
   "cell_type": "markdown",
   "metadata": {},
   "source": [
    "# SW 282: EXAM 1\n",
    "\n",
    "---\n",
    "\n",
    "### Professor Erin Kerrison\n",
    "\n",
    "You will have 90 minutes to complete this exam. \n",
    "\n",
    "You will not receive full credit for responses that lack development or do not fully address each of the prompts.  Please feel free to use scratch paper for brainstorming purposes, but understand that you will only earn credit for responses that are recorded in your Jupyter notebook and uploaded as a PDF to bCourses.\n",
    "\n",
    "Please note that this is closed-book exam (the use of notes or study aids are prohibited), you are expected to work alone, and you may not share the content of your exam with any other students.\n",
    "\n",
    "---\n",
    "\n",
    "#### Dependencies\n",
    "\n",
    "To begin with the lab, run the cell below, which loads in all of the Python packages we'll be making use of."
   ]
  },
  {
   "cell_type": "code",
   "execution_count": null,
   "metadata": {},
   "outputs": [],
   "source": [
    "from datascience import *\n",
    "import numpy as np\n",
    "import pandas as pd\n",
    "import pyreadstat\n",
    "import matplotlib.pyplot as plt\n",
    "%matplotlib inline\n",
    "plt.style.use(\"fivethirtyeight\")"
   ]
  },
  {
   "cell_type": "markdown",
   "metadata": {},
   "source": [
    "## 1. Reading in SPSS Files <a id=\"section-1\"></a>\n",
    "\n",
    "In the cell below, you will load in the data to be used for the remainder of this exam (the Prejudice Reaction Time Test mentioned in your Salkind reding) using `pyreadstat.read_sav()` and the `pyreadstat`-`pandas`-`datascience` pipeline discussed above."
   ]
  },
  {
   "cell_type": "code",
   "execution_count": null,
   "metadata": {},
   "outputs": [],
   "source": [
    "df, _ = pyreadstat.read_sav(\"data/ch-3-ds-1.sav\")\n",
    "reaction_times = Table.from_df(df)\n",
    "reaction_times"
   ]
  },
  {
   "cell_type": "markdown",
   "metadata": {},
   "source": [
    "<div class=\"alert alert-info\">\n",
    "\n",
    "**QUESTION:** In the markdown cell below, please answer the following:\n",
    "\n",
    "- (1) How many reaction time values are included in this dataset?\n",
    "- (2) From what you know of the Reaction Time study, at what level of measurement have these variable values been captured?\n",
    "- (3) How else could you capture a study particpant's level of prejudice, using a different level of measurement than the onw you just named above? \n",
    "</div>\n",
    "\n"
   ]
  },
  {
   "cell_type": "markdown",
   "metadata": {},
   "source": [
    "_**Type your answer here, replacing this text.**_\n",
    "\n",
    "(1) \n",
    "\n",
    "(2) \n",
    "\n",
    "(3)"
   ]
  },
  {
   "cell_type": "markdown",
   "metadata": {},
   "source": [
    "## 2. Central Tendency and Spread <a id=\"section-2\"></a>\n",
    "\n",
    "In this section of the notebook, we will be looking at the measures of central tendency and the _standard deviation_ of our `reaction_time` data. The standard deviation is a measured of the _spread_ of a distribution, and is defined as the root-mean-squared difference from the mean of the data."
   ]
  },
  {
   "cell_type": "code",
   "execution_count": null,
   "metadata": {},
   "outputs": [],
   "source": [
    "# Let's first take a look at our distribution by (1) generating a box plot of the \n",
    "# dataset, followed by (2) identifying several measures of central tnedency\n",
    "\n",
    "reaction_times.boxplot()"
   ]
  },
  {
   "cell_type": "markdown",
   "metadata": {},
   "source": [
    "<div class=\"alert alert-info\">\n",
    "\n",
    "You can see that boxplots offer a fantastic summary of lies within what is considered \"normal\" for a given dataset's spread!! \n",
    "\n",
    "**QUESTION:** What does the boxplot you generated tell us about the spread of this univariate distribution (study participants' reported reaction times in this case)? What can you share about the distribution of the data? Please describe the dataset in the cell below and be sure to state what you believe are the distribution's minimum value, maximum value, median, and distribution shape.\n",
    "</div>"
   ]
  },
  {
   "cell_type": "markdown",
   "metadata": {},
   "source": [
    "_**Type your answer here, replacing this text.**_\n",
    "\n",
    "(1) Miniumum Value: \n",
    "\n",
    "(2) Maximum Value: \n",
    "\n",
    "(3) Median: \n",
    "\n",
    "(4) Distribution shape: "
   ]
  },
  {
   "cell_type": "code",
   "execution_count": null,
   "metadata": {},
   "outputs": [],
   "source": [
    "# Now let's calculate one of the dataset's measures of central tendency. You will need to fill\n",
    "# in the command below by telling Python to caluclate the measures for our dataset \n",
    "# (please disregard the warning that might pop up upon running this code cell)\n",
    "\n",
    "np.mean(reaction_times)\n"
   ]
  },
  {
   "cell_type": "markdown",
   "metadata": {},
   "source": [
    "<div class=\"alert alert-info\">\n",
    "\n",
    "**QUESTION:** Now that you've calculated the mean and you (more or less) know the median based on the what the box plot already illustrated, what can you say about the shape of this datasets distribution? What speciafically about the difference between the mean and the median makes you sure? Finally, would the mean or the median serve as a better measure of this dataset's central tendency? Please be sure to justify  your choice. Please provide your answers in the cell below.\n",
    "</div>"
   ]
  },
  {
   "cell_type": "markdown",
   "metadata": {},
   "source": [
    "_**Type your answer here, replacing this text.**_"
   ]
  },
  {
   "cell_type": "markdown",
   "metadata": {},
   "source": [
    "## 3. Population Standard Deviation <a id=\"section-3\"></a>\n",
    "\n",
    "In the cell below, we will calculate the standard deviation of the `reaction_times` dataset."
   ]
  },
  {
   "cell_type": "code",
   "execution_count": null,
   "metadata": {},
   "outputs": [],
   "source": [
    "# You will need to fill in the command below by telling Python to caluclate the measure\n",
    "# for our dataset (please disregard the warning that might pop up upon running this code cell)\n",
    "\n",
    "np.std(reaction_times)"
   ]
  },
  {
   "cell_type": "markdown",
   "metadata": {},
   "source": [
    "<div class=\"alert alert-info\">\n",
    "\n",
    "**QUESTION:** Given what you now know about the distribution's mean, median, and standard devation, what can say about how particpants' reaction time scores were clustered? Answe the following two questions:\n",
    "- Would you expect to find a reaction time score of 2.21 seconds reported for this population?\n",
    "- Why or why not?\n",
    "\n",
    "</div>"
   ]
  },
  {
   "cell_type": "markdown",
   "metadata": {},
   "source": [
    "_**Type your answer here, replacing this text.**_"
   ]
  },
  {
   "cell_type": "markdown",
   "metadata": {},
   "source": [
    "---\n",
    "\n",
    "## Submission\n",
    "\n",
    "Congratulations on finishing your first exam! To turn in this lab assignment, go to File > Download as > PDF via Chrome and upload the PDF to bCourses.\n",
    "\n",
    "---\n",
    "Notebook developed by: Chris Pyles and Erin Kerrison \n",
    "\n",
    "Data Science Modules: http://data.berkeley.edu/education/modules"
   ]
  },
  {
   "cell_type": "markdown",
   "metadata": {},
   "source": [
    " "
   ]
  }
 ],
 "metadata": {
  "kernelspec": {
   "display_name": "Python 3",
   "language": "python",
   "name": "python3"
  },
  "language_info": {
   "codemirror_mode": {
    "name": "ipython",
    "version": 3
   },
   "file_extension": ".py",
   "mimetype": "text/x-python",
   "name": "python",
   "nbconvert_exporter": "python",
   "pygments_lexer": "ipython3",
   "version": "3.6.8"
  },
  "varInspector": {
   "cols": {
    "lenName": 16,
    "lenType": 16,
    "lenVar": 40
   },
   "kernels_config": {
    "python": {
     "delete_cmd_postfix": "",
     "delete_cmd_prefix": "del ",
     "library": "var_list.py",
     "varRefreshCmd": "print(var_dic_list())"
    },
    "r": {
     "delete_cmd_postfix": ") ",
     "delete_cmd_prefix": "rm(",
     "library": "var_list.r",
     "varRefreshCmd": "cat(var_dic_list()) "
    }
   },
   "types_to_exclude": [
    "module",
    "function",
    "builtin_function_or_method",
    "instance",
    "_Feature"
   ],
   "window_display": false
  }
 },
 "nbformat": 4,
 "nbformat_minor": 2
}
