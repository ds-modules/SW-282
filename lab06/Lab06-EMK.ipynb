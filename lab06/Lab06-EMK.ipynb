{
 "cells": [
  {
   "cell_type": "markdown",
   "metadata": {},
   "source": [
    "# SW 282: Lab 6 - Scatterplots\n",
    "\n",
    "---\n",
    "\n",
    "### Professor Erin Kerrison\n",
    "\n",
    "In this notebook, you will use the matplotlib skills again to create one of the most fundamental data visualizations: a scatterplot. You will also practice idetifying the relationship between variables.\n",
    "\n",
    "---\n",
    "\n",
    "### Table of Contents\n",
    "\n",
    "1. [Scatterplots](#section-1) <br>\n",
    "&nbsp;&nbsp;&nbsp; a. [Variable Relationships](#section-2)\n",
    "2. [Practice](#section-2)\n",
    "\n",
    "---"
   ]
  },
  {
   "cell_type": "code",
   "execution_count": null,
   "metadata": {},
   "outputs": [],
   "source": [
    "from datascience import *\n",
    "import pandas as pd\n",
    "import numpy as np\n",
    "import matplotlib.pyplot as plt\n",
    "plt.style.use(\"fivethirtyeight\")\n",
    "from ipywidgets import interact, Dropdown, IntSlider\n",
    "import ipywidgets as widgets\n",
    "import warnings\n",
    "warnings.simplefilter('ignore', FutureWarning)\n",
    "%matplotlib inline\n",
    "hybrid = Table.read_table(\"data/hybrid.csv\")"
   ]
  },
  {
   "cell_type": "markdown",
   "metadata": {},
   "source": [
    "## 1. Scatterplots <a id=\"section-1\"></a>\n",
    "\n",
    "We've spent some time calculaing desriptive statistics (measures of central tendency and variability) for univariate datasets and are now switching gears to explore the relationship *between* variables.  \n",
    "\n",
    "You have already learned how to create plots using the plotting library `matplotlib.` One last type of plot that wasn't desribed in that module, although it was pictured , was a scatterplot. Scatterplots are very similar to line plots in their creation; the only difference is that the function call in Python is `plt.scatter` rather than `plt.plot`."
   ]
  },
  {
   "cell_type": "markdown",
   "metadata": {},
   "source": [
    "Consider the scatterplot below, which illustrates the relationship between two variables from the Hybrid Cars dataset we explored earlier in the term.  \n",
    "\n",
    "The variables are Manufacturer's Suggested Retail Price (y-axis) and the car's Acceleration score (x=axis)."
   ]
  },
  {
   "cell_type": "code",
   "execution_count": null,
   "metadata": {},
   "outputs": [],
   "source": [
    "plt.scatter(hybrid.column(\"acceleration\"), hybrid.column(\"msrp\"))\n",
    "plt.xlabel(\"Accleration\")\n",
    "plt.ylabel(\"MSRP\")\n",
    "plt.title(\"MSRP vs. Acceleration\");"
   ]
  },
  {
   "cell_type": "markdown",
   "metadata": {},
   "source": [
    "Notice how similar the code is to what we've been doing in matplotlib so far. Scatterplots are easy to code and give you a good look at the relationships between variables.\n",
    "\n",
    "### 1a. Variable Relationships <a id=\"section-1a\"></a>\n",
    "\n",
    "Scatterplots are a great way to see if there is a relationship between to variables. Consider the scatterplot generated below:"
   ]
  },
  {
   "cell_type": "code",
   "execution_count": null,
   "metadata": {},
   "outputs": [],
   "source": [
    "x = np.random.uniform(0, 10, 100)\n",
    "y = 3 * x + 7 + np.random.normal(-2, 2, 100)\n",
    "plt.scatter(x, y);"
   ]
  },
  {
   "cell_type": "markdown",
   "metadata": {},
   "source": [
    "What kind of relationship do these variables share? If the words, \"positive\" or \"linear\" came to mind... good job!! These variables are positively and linearly correlated. In fact, we can calculate their _correlation coefficient_, a value of which close to 1 means that they share a positive linear relationship."
   ]
  },
  {
   "cell_type": "code",
   "execution_count": null,
   "metadata": {},
   "outputs": [],
   "source": [
    "np.corrcoef(x, y)[0,1]"
   ]
  },
  {
   "cell_type": "markdown",
   "metadata": {},
   "source": [
    "## 2. Practice <a id=\"section-2\"></a>\n",
    "\n",
    "In this section, you will practice making scatterplots of numerical data. We begin by loading our dataset below."
   ]
  },
  {
   "cell_type": "code",
   "execution_count": null,
   "metadata": {},
   "outputs": [],
   "source": [
    "wine = Table.read_table(\"data/wine.csv\")\n",
    "wine"
   ]
  },
  {
   "cell_type": "markdown",
   "metadata": {},
   "source": [
    "<div class=\"alert alert-info\">\n",
    "\n",
    "**QUESTION:** In the code cells below, create a scatterplot of `y` vs. `x` from the `wine` table created above. Include axis labels and a scatterplot title.\n",
    "\n",
    "In the Markdown cell following the visualization, write out an interpretation of the scatterplot. If you see any relationship between the variables, please be sure to make a note of it.\n",
    "\n",
    "</div>\n",
    "\n",
    "_Hint:_ Remember that you'll need to extract your values into arrays using `Table.column()`..."
   ]
  },
  {
   "cell_type": "code",
   "execution_count": null,
   "metadata": {},
   "outputs": [],
   "source": [
    "x1, y1 = \"Alcohol\", \"Proline\"\n",
    "\n",
    "# Using the example that you ran earlier, please fill in the appropriate code below\n"
   ]
  },
  {
   "cell_type": "markdown",
   "metadata": {},
   "source": [
    "_**Type your answer here, replacing this text.**_"
   ]
  },
  {
   "cell_type": "code",
   "execution_count": null,
   "metadata": {},
   "outputs": [],
   "source": [
    "x2, y2 = \"Total Phenols\", \"Flavanoids\"\n"
   ]
  },
  {
   "cell_type": "markdown",
   "metadata": {},
   "source": [
    "_**Type your answer here, replacing this text.**_"
   ]
  },
  {
   "cell_type": "code",
   "execution_count": null,
   "metadata": {},
   "outputs": [],
   "source": [
    "x3, y3 = \"Color Intensity\", \"Proline\"\n"
   ]
  },
  {
   "cell_type": "markdown",
   "metadata": {},
   "source": [
    "_**Type your answer here, replacing this text.**_"
   ]
  },
  {
   "cell_type": "markdown",
   "metadata": {},
   "source": [
    "Now that you've have some practice making your own scatterplots, take a look at the widget generated by running the cell below. It will allow you to select two variables to plot against one another."
   ]
  },
  {
   "cell_type": "code",
   "execution_count": null,
   "metadata": {},
   "outputs": [],
   "source": [
    "def scatterplot(x, y):\n",
    "    xvals = wine.column(x)\n",
    "    yvals = wine.column(y)\n",
    "    plt.scatter(xvals, yvals)\n",
    "    plt.xlabel(x)\n",
    "    plt.ylabel(y)\n",
    "    plt.title(\"{} vs. {}\".format(y, x));\n",
    "    \n",
    "cols = wine.labels[1:]\n",
    "interact(scatterplot, x=Dropdown(options=cols), y=Dropdown(options=cols));"
   ]
  },
  {
   "cell_type": "markdown",
   "metadata": {},
   "source": [
    "<div class=\"alert alert-info\">\n",
    "\n",
    "**QUESTION:** If \"Alcohol\" is selcted for both the X and Y variables of interest, what does the scatterplot tell you about the correlation for those two varibales?  What expains the relationship you observed?\n",
    "\n",
    "</div>"
   ]
  },
  {
   "cell_type": "markdown",
   "metadata": {},
   "source": [
    "_**Type your answer here, replacing this text.**_"
   ]
  },
  {
   "cell_type": "markdown",
   "metadata": {},
   "source": [
    "---\n",
    "\n",
    "## Submission\n",
    "\n",
    "Congrats on finishing another lab notebook! To turn in this lab assignment, go to File > Download as > PDF via Chrome and upload the PDF to bCourses.\n",
    "\n",
    "---\n",
    "Notebook developed by: Chris Pyles\n",
    "\n",
    "Data Science Modules: http://data.berkeley.edu/education/modules"
   ]
  },
  {
   "cell_type": "markdown",
   "metadata": {},
   "source": [
    " "
   ]
  }
 ],
 "metadata": {
  "kernelspec": {
   "display_name": "Python 3",
   "language": "python",
   "name": "python3"
  },
  "language_info": {
   "codemirror_mode": {
    "name": "ipython",
    "version": 3
   },
   "file_extension": ".py",
   "mimetype": "text/x-python",
   "name": "python",
   "nbconvert_exporter": "python",
   "pygments_lexer": "ipython3",
   "version": "3.6.8"
  },
  "varInspector": {
   "cols": {
    "lenName": 16,
    "lenType": 16,
    "lenVar": 40
   },
   "kernels_config": {
    "python": {
     "delete_cmd_postfix": "",
     "delete_cmd_prefix": "del ",
     "library": "var_list.py",
     "varRefreshCmd": "print(var_dic_list())"
    },
    "r": {
     "delete_cmd_postfix": ") ",
     "delete_cmd_prefix": "rm(",
     "library": "var_list.r",
     "varRefreshCmd": "cat(var_dic_list()) "
    }
   },
   "types_to_exclude": [
    "module",
    "function",
    "builtin_function_or_method",
    "instance",
    "_Feature"
   ],
   "window_display": false
  }
 },
 "nbformat": 4,
 "nbformat_minor": 2
}
