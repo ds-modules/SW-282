{
 "cells": [
  {
   "cell_type": "markdown",
   "metadata": {},
   "source": [
    "# SW 282: Lab 4 - Standard Deviation & Bootstrapping\n",
    "\n",
    "---\n",
    "\n",
    "### Proessor Erin Kerrison\n",
    "\n",
    "In this lab, we consider the standard deviation and the data science technique of bootstrapping.\n",
    "\n",
    "---\n",
    "\n",
    "### Table of Contents\n",
    "\n",
    "1. [Reading in SPSS FIles](#section-1)\n",
    "2. [Standard Deviation & the Bootstrap](#section-2)\n",
    "3. [Population Standard Deviation](#section-3)\n",
    "\n",
    "---"
   ]
  },
  {
   "cell_type": "markdown",
   "metadata": {},
   "source": [
    "#### Dependencies\n",
    "\n",
    "To begin with the lab, run the cell below, which loads in all of the Python packages we'll be making use of."
   ]
  },
  {
   "cell_type": "code",
   "execution_count": null,
   "metadata": {},
   "outputs": [],
   "source": [
    "from datascience import *\n",
    "import numpy as np\n",
    "import pandas as pd\n",
    "import pyreadstat\n",
    "import matplotlib.pyplot as plt\n",
    "%matplotlib inline\n",
    "plt.style.use(\"fivethirtyeight\")"
   ]
  },
  {
   "cell_type": "markdown",
   "metadata": {},
   "source": [
    "## 1. Reading in SPSS Files <a id=\"section-1\"></a>\n",
    "\n",
    "While CSV is one of the more common formats for saving data, there are others as well (e.g. JSON, XML). The `datascience` library does not currently support reading in data formatted in this way, so instead we use a library called `pandas`, which is the industry standard for working with rectangular data.\n",
    "\n",
    "In this notebook, we will focus on how to import SPSS-formatted data (files with a `.sav` extension). We will use a library called `pyreadstat` which reads these files into a pandas `DataFrame`, analogous to the `Table`s you've been working with. Once we have the DataFrame, we can then use `Table.from_df()` from the `datascience` library to convert the DataFrame into a table for use.\n",
    "\n",
    "In the cell below, we load in the data for this lab using `pyreadstat.read_sav()` and the `pyreadstat`-`pandas`-`datascience` pipeline discussed above."
   ]
  },
  {
   "cell_type": "code",
   "execution_count": 14,
   "metadata": {},
   "outputs": [
    {
     "data": {
      "text/html": [
       "<table border=\"1\" class=\"dataframe\">\n",
       "    <thead>\n",
       "        <tr>\n",
       "            <th>ReactionTime</th>\n",
       "        </tr>\n",
       "    </thead>\n",
       "    <tbody>\n",
       "        <tr>\n",
       "            <td>0.3         </td>\n",
       "        </tr>\n",
       "        <tr>\n",
       "            <td>0.5         </td>\n",
       "        </tr>\n",
       "        <tr>\n",
       "            <td>0.2         </td>\n",
       "        </tr>\n",
       "        <tr>\n",
       "            <td>1.9         </td>\n",
       "        </tr>\n",
       "        <tr>\n",
       "            <td>0.7         </td>\n",
       "        </tr>\n",
       "        <tr>\n",
       "            <td>0.4         </td>\n",
       "        </tr>\n",
       "        <tr>\n",
       "            <td>0.2         </td>\n",
       "        </tr>\n",
       "        <tr>\n",
       "            <td>0.2         </td>\n",
       "        </tr>\n",
       "        <tr>\n",
       "            <td>0.2         </td>\n",
       "        </tr>\n",
       "        <tr>\n",
       "            <td>0.5         </td>\n",
       "        </tr>\n",
       "    </tbody>\n",
       "</table>\n",
       "<p>... (190 rows omitted)</p>"
      ],
      "text/plain": [
       "ReactionTime\n",
       "0.3\n",
       "0.5\n",
       "0.2\n",
       "1.9\n",
       "0.7\n",
       "0.4\n",
       "0.2\n",
       "0.2\n",
       "0.2\n",
       "0.5\n",
       "... (190 rows omitted)"
      ]
     },
     "execution_count": 14,
     "metadata": {},
     "output_type": "execute_result"
    }
   ],
   "source": [
    "df, _ = pyreadstat.read_sav(\"data/ch-3-ds-1.sav\")\n",
    "reaction_times = Table.from_df(df)\n",
    "reaction_times"
   ]
  },
  {
   "cell_type": "markdown",
   "metadata": {},
   "source": [
    "## 2. Standard Deviation & the Bootstrap <a id=\"section-2\"></a>\n",
    "\n",
    "In this section of the notebook, we will be looking at the _standard deviation_ of samples from our `reaction_time` data. The standard deviation is a measured of the _spread_ of a sample, and is defined as the root-mean-squared difference from the mean of the data.\n",
    "\n",
    "Let's consider the following question:\n",
    "\n",
    "> What is the standard deviation of the **population** from which our sample is drawn?\n",
    "\n",
    "This question can't be answered exactly as we can't know the population distribution of our sample, but there are statistical techniques that we can use to attempt to answer such a question. One such technique is the **bootstrap**, in which we use data already collected to generate new samples in an attempt to estimate the value of a **population parameter**.\n",
    "\n",
    "The bootstrap is a simple process:\n",
    "\n",
    "1. Resample from your existing sample $n$ times to create a new _bootstrap sample_\n",
    "2. Calculate the statistic being estimated on your bootstrap sample\n",
    "3. Average these values for an estimate of the parameter\n",
    "\n",
    "In this section, we will walk you through a simple bootstrap of our `reaction_time` data in an attempt to estimate the population standard deviation. If you want to learn more about the boostrap, you can read about it and its statistical foundations in the [Data 8 textbook](https://www.inferentialthinking.com/chapters/13/2/Bootstrap.html).\n",
    "\n",
    "#### Resample the Table\n",
    "\n",
    "To begin bootstrap, you will need to repeatedly resample from your table. Recall from the last lab that you can sample from a table using `Table.sample()`. In this example we will use $n=5$ resamples, although normal bootstrapping procedures resample on the order of thousands or tens of thousands of times.\n",
    "\n",
    "To sample repeatedly, we will use a `for` loop, which will repeatedly execute an action for each element in an array. Consider the `for` loop below:"
   ]
  },
  {
   "cell_type": "code",
   "execution_count": null,
   "metadata": {},
   "outputs": [],
   "source": [
    "for word in make_array(\"This\", \"is\", \"a\", \"smple\", \"for\", \"loop.\"):\n",
    "    print(word)"
   ]
  },
  {
   "cell_type": "markdown",
   "metadata": {},
   "source": [
    "The loop above prints out each word in the array we define in the first line. If we wanted to collect values in an array, we would use a loop of the form\n",
    "\n",
    "```python\n",
    "arr = make_array()\n",
    "for i in arr2:\n",
    "    # do something with i\n",
    "    arr = np.append(arr, i)\n",
    "```\n",
    "\n",
    "The function `np.append()` adds its second argument to the end of its first argument. In this way, we can construct a bootstrap procedure as follows:\n",
    "\n",
    "```python\n",
    "values = make_array()\n",
    "for i in np.arange(n):\n",
    "    # resample table\n",
    "    value = # statistic value\n",
    "    values = np.append(values, value)\n",
    "```\n",
    "\n",
    "The function `np.arange(n)` creates an array of integers from 0 to $n-1$, which means that `for` loop above runs $n$ times."
   ]
  },
  {
   "cell_type": "markdown",
   "metadata": {},
   "source": [
    "<div class=\"alert alert-info\">\n",
    "\n",
    "**QUESTION:** Fill in the skeleton code below to bootstrap an estimate of the standard deviation of our sample with 5 resamples. Use a sample size of 75.\n",
    "\n",
    "</div>"
   ]
  },
  {
   "cell_type": "code",
   "execution_count": null,
   "metadata": {},
   "outputs": [],
   "source": [
    "n = ...\n",
    "sdevs = ...\n",
    "for i in np.arange(...):\n",
    "    sample = reaction_times.sample(...)\n",
    "    sdev = np.std(sample.column(\"ReactionTime\"))\n",
    "    sdevs = np.append(..., ...)"
   ]
  },
  {
   "cell_type": "markdown",
   "metadata": {},
   "source": [
    "Now that we have an array of standard deviations for each resample, we can average them using `np.mean` to get an estimate of the **population** standard deviation."
   ]
  },
  {
   "cell_type": "code",
   "execution_count": null,
   "metadata": {},
   "outputs": [],
   "source": [
    "print(\"Estimate of Population SD: \", np.mean(sdevs))"
   ]
  },
  {
   "cell_type": "markdown",
   "metadata": {},
   "source": [
    "<div class=\"alert alert-info\">\n",
    "\n",
    "**QUESTION:** Take a look at the values for the standard deviation we got with each resample (by running the cell below). How does what is calculated change based on the particular sample that is chosen?\n",
    "\n",
    "</div>"
   ]
  },
  {
   "cell_type": "code",
   "execution_count": null,
   "metadata": {},
   "outputs": [],
   "source": [
    "sdevs"
   ]
  },
  {
   "cell_type": "markdown",
   "metadata": {},
   "source": [
    "_Type your answer here, replacing this text._"
   ]
  },
  {
   "cell_type": "markdown",
   "metadata": {},
   "source": [
    "## 3. Population Standard Deviation <a id=\"section-3\"></a>\n",
    "\n",
    "In the cell below, we load in the underlying population from which our sample `reaction_times` was drawn."
   ]
  },
  {
   "cell_type": "code",
   "execution_count": 13,
   "metadata": {},
   "outputs": [
    {
     "data": {
      "text/html": [
       "<table border=\"1\" class=\"dataframe\">\n",
       "    <thead>\n",
       "        <tr>\n",
       "            <th>ReactionTime</th>\n",
       "        </tr>\n",
       "    </thead>\n",
       "    <tbody>\n",
       "        <tr>\n",
       "            <td>0.4         </td>\n",
       "        </tr>\n",
       "        <tr>\n",
       "            <td>0.7         </td>\n",
       "        </tr>\n",
       "        <tr>\n",
       "            <td>0.4         </td>\n",
       "        </tr>\n",
       "        <tr>\n",
       "            <td>0.9         </td>\n",
       "        </tr>\n",
       "        <tr>\n",
       "            <td>0.8         </td>\n",
       "        </tr>\n",
       "        <tr>\n",
       "            <td>0.7         </td>\n",
       "        </tr>\n",
       "        <tr>\n",
       "            <td>0.3         </td>\n",
       "        </tr>\n",
       "        <tr>\n",
       "            <td>1.9         </td>\n",
       "        </tr>\n",
       "        <tr>\n",
       "            <td>1.2         </td>\n",
       "        </tr>\n",
       "        <tr>\n",
       "            <td>2.8         </td>\n",
       "        </tr>\n",
       "    </tbody>\n",
       "</table>\n",
       "<p>... (20 rows omitted)</p>"
      ],
      "text/plain": [
       "ReactionTime\n",
       "0.4\n",
       "0.7\n",
       "0.4\n",
       "0.9\n",
       "0.8\n",
       "0.7\n",
       "0.3\n",
       "1.9\n",
       "1.2\n",
       "2.8\n",
       "... (20 rows omitted)"
      ]
     },
     "execution_count": 13,
     "metadata": {},
     "output_type": "execute_result"
    }
   ],
   "source": [
    "df, _ = pyreadstat.read_sav(\"data/ch-3-dataset-1.sav\")\n",
    "population = Table.from_df(df)\n",
    "population"
   ]
  },
  {
   "cell_type": "markdown",
   "metadata": {},
   "source": [
    "<div class=\"alert alert-info\">\n",
    "\n",
    "**QUESTION:** Compute the standard deviation of the `ReactionTime` column of `population`.\n",
    "\n",
    "</div>"
   ]
  },
  {
   "cell_type": "code",
   "execution_count": null,
   "metadata": {},
   "outputs": [],
   "source": [
    "np.std(...)"
   ]
  },
  {
   "cell_type": "markdown",
   "metadata": {},
   "source": [
    "<div class=\"alert alert-info\">\n",
    "\n",
    "**QUESTION:** What are the implications for the observed differences in the five standard deviations from our bootstrap, our bootstrapped standard deviation, and the population standard deviation?\n",
    "\n",
    "</div>"
   ]
  },
  {
   "cell_type": "markdown",
   "metadata": {},
   "source": [
    "_Type your answer here, replacing this text._"
   ]
  },
  {
   "cell_type": "markdown",
   "metadata": {},
   "source": [
    "---\n",
    "\n",
    "## Submission\n",
    "\n",
    "Congrats on finishing another lab notebook! To turn in this lab assignment follow the steps below:\n",
    "\n",
    ">1. Press `Control + P` (or `Command + P` on Mac) to open the Print preview\n",
    "2. Change the destination so that it saves locally on your own computer.\n",
    "3. Save as PDF\n",
    "4. If you are stuck, follow further instructions [here](https://www.wikihow.com/Save-a-Web-Page-as-a-PDF-in-Google-Chrome).\n",
    "5. Upload this PDF to bCourses.\n",
    "\n",
    "---\n",
    "Notebook developed by: Chris Pyles\n",
    "\n",
    "Data Science Modules: http://data.berkeley.edu/education/modules"
   ]
  },
  {
   "cell_type": "markdown",
   "metadata": {},
   "source": [
    " "
   ]
  }
 ],
 "metadata": {
  "kernelspec": {
   "display_name": "Python 3",
   "language": "python",
   "name": "python3"
  },
  "language_info": {
   "codemirror_mode": {
    "name": "ipython",
    "version": 3
   },
   "file_extension": ".py",
   "mimetype": "text/x-python",
   "name": "python",
   "nbconvert_exporter": "python",
   "pygments_lexer": "ipython3",
   "version": "3.6.5"
  },
  "varInspector": {
   "cols": {
    "lenName": 16,
    "lenType": 16,
    "lenVar": 40
   },
   "kernels_config": {
    "python": {
     "delete_cmd_postfix": "",
     "delete_cmd_prefix": "del ",
     "library": "var_list.py",
     "varRefreshCmd": "print(var_dic_list())"
    },
    "r": {
     "delete_cmd_postfix": ") ",
     "delete_cmd_prefix": "rm(",
     "library": "var_list.r",
     "varRefreshCmd": "cat(var_dic_list()) "
    }
   },
   "types_to_exclude": [
    "module",
    "function",
    "builtin_function_or_method",
    "instance",
    "_Feature"
   ],
   "window_display": false
  }
 },
 "nbformat": 4,
 "nbformat_minor": 2
}
