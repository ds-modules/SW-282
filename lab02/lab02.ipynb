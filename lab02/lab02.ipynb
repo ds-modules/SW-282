{
 "cells": [
  {
   "cell_type": "markdown",
   "metadata": {},
   "source": [
    "# SW 282: Lab 2 - Tables\n",
    "\n",
    "---\n",
    "\n",
    "### Proessor Erin Kerrison\n",
    "\n",
    "In this lab, we look at how to construct tables in Python from arrays.\n",
    "\n",
    "---\n",
    "\n",
    "### Table of Contents\n",
    "\n",
    "1. [Creating Tables](#section-1)\n",
    "\n",
    "---"
   ]
  },
  {
   "cell_type": "markdown",
   "metadata": {},
   "source": [
    "#### Dependencies\n",
    "\n",
    "To begin with the lab, run the cell below, which loads in all of the Python packages we'll be making use of."
   ]
  },
  {
   "cell_type": "code",
   "execution_count": null,
   "metadata": {},
   "outputs": [],
   "source": [
    "from datascience import *\n",
    "import numpy as np\n",
    "import pandas as pd"
   ]
  },
  {
   "cell_type": "markdown",
   "metadata": {},
   "source": [
    "## 1. Creating Tables <a id=\"section-1\"></a>\n",
    "\n",
    "The fundamental object in the `datascience` library is a `Table`. This Python class holds data in rectangular form (i.e. data with rows and columns). There are a few different was to construct a table. In this lab, we will focus on creating them from scratch using Python data structures. To construct a table, we use the call `Table().with_columns(...)` which constructs an empty table and then adds columns to the table with specified labels.\n",
    "\n",
    "Each column requires two things: a label and an array of values. Strings are a Python type that represents sequences of characters; they are created by wrapping characters in double (or single) quotes:\n",
    "\n",
    "```python\n",
    "\"This is a string.\"\n",
    "'This is also a string.'\n",
    "```\n",
    "\n",
    "The array is a data structure from the `numpy` library. Data stored in an array must be of the same type (e.g. `int` (integers), `float` (decimals), `str` (strings)). To create an array, use the `make_array` function which comes in the `datascience` package:"
   ]
  },
  {
   "cell_type": "code",
   "execution_count": null,
   "metadata": {},
   "outputs": [],
   "source": [
    "make_array(1, 2, 3, 4, 5)"
   ]
  },
  {
   "cell_type": "markdown",
   "metadata": {},
   "source": [
    "To create a table from these two things, we structure the call as follows:\n",
    "\n",
    "```python\n",
    "Table().with_columns(label_1, values_1, label_2, values_2, ...)\n",
    "```\n",
    "\n",
    "As an example, the table below could be created using the code in the next code cell.\n",
    "\n",
    "| Flavor | Color | Price |\n",
    "|-----|-----|-----|\n",
    "| strawberry | pink | 3.55 |\n",
    "| chocolate | light brown | 4.75 |\n",
    "| chocolate | dark brown | 5.25 |\n",
    "| strawberry | pink | 5.25 |\n",
    "| chocolate | dark brown | 5.25 |\n",
    "| bubblegum | pink | 4.75 |"
   ]
  },
  {
   "cell_type": "code",
   "execution_count": null,
   "metadata": {},
   "outputs": [],
   "source": [
    "flavors = make_array(\"strawberry\", \"chocolate\", \"chocolate\", \"strawberry\", \"chocolate\", \"bubblegum\")\n",
    "colors = make_array(\"pink\", \"light brown\", \"dark brown\", \"pink\", \"dark brown\", \"pink\")\n",
    "prices = make_array(3.55, 4.75, 5.25, 5.25, 5.25, 4.75)\n",
    "\n",
    "cones = Table().with_columns(\n",
    "    \"Flavor\", flavors,\n",
    "    \"Color\", colors,\n",
    "    \"Price\", prices\n",
    ")\n",
    "cones"
   ]
  },
  {
   "cell_type": "markdown",
   "metadata": {},
   "source": [
    "<div class=\"alert alert-info\">\n",
    "    \n",
    "**QUESTION:** In each of the four code cells below, create a table with two columns, `Variable` and `Value`. Each value in `Variable` should be the name of a variable (a string) and each `Value` should be the value of that variable observation.\n",
    "\n",
    "In the Markdown cell following the code cell, identify which levels of measurement are appropriate.\n",
    "    \n",
    "</div>"
   ]
  },
  {
   "cell_type": "code",
   "execution_count": null,
   "metadata": {},
   "outputs": [],
   "source": [
    "variables = make_array(...)\n",
    "values = make_array(...)\n",
    "\n",
    "table_1 = Table().with_columns(\n",
    "    ..., ...,\n",
    "    ..., ...\n",
    ")\n",
    "table_1"
   ]
  },
  {
   "cell_type": "markdown",
   "metadata": {},
   "source": [
    "_Type your answer here, replacing this text._"
   ]
  },
  {
   "cell_type": "code",
   "execution_count": null,
   "metadata": {},
   "outputs": [],
   "source": [
    "variables = make_array(...)\n",
    "values = make_array(...)\n",
    "\n",
    "table_2 = Table().with_columns(\n",
    "    ..., ...,\n",
    "    ..., ...\n",
    ")\n",
    "table_2"
   ]
  },
  {
   "cell_type": "markdown",
   "metadata": {},
   "source": [
    "_Type your answer here, replacing this text._"
   ]
  },
  {
   "cell_type": "code",
   "execution_count": null,
   "metadata": {},
   "outputs": [],
   "source": [
    "variables = make_array(...)\n",
    "values = make_array(...)\n",
    "\n",
    "table_3 = Table().with_columns(\n",
    "    ..., ...,\n",
    "    ..., ...\n",
    ")\n",
    "table_3"
   ]
  },
  {
   "cell_type": "markdown",
   "metadata": {},
   "source": [
    "_Type your answer here, replacing this text._"
   ]
  },
  {
   "cell_type": "code",
   "execution_count": null,
   "metadata": {},
   "outputs": [],
   "source": [
    "variables = make_array(...)\n",
    "values = make_array(...)\n",
    "\n",
    "table_4 = Table().with_columns(\n",
    "    ..., ...,\n",
    "    ..., ...\n",
    ")\n",
    "table_4"
   ]
  },
  {
   "cell_type": "markdown",
   "metadata": {},
   "source": [
    "_Type your answer here, replacing this text._"
   ]
  },
  {
   "cell_type": "markdown",
   "metadata": {},
   "source": [
    "<div class=\"alert alert-info\">\n",
    "   \n",
    "**QUESTION:** In the Markdown cell below, give an example of a research question you could pose and answer using the variables and their 10 observed scores offered in each table.\n",
    "    \n",
    "</div>"
   ]
  },
  {
   "cell_type": "markdown",
   "metadata": {},
   "source": [
    "_Type your answer here, replacing this text._"
   ]
  },
  {
   "cell_type": "markdown",
   "metadata": {},
   "source": [
    "---\n",
    "\n",
    "## Submission\n",
    "\n",
    "Congrats on finishing another lab notebook! To turn in this lab assignment follow the steps below:\n",
    "\n",
    ">1. Press `Control + P` (or `Command + P` on Mac) to open the Print preview\n",
    "2. Change the destination so that it saves locally on your own computer.\n",
    "3. Save as PDF\n",
    "4. If you are stuck, follow further instructions [here](https://www.wikihow.com/Save-a-Web-Page-as-a-PDF-in-Google-Chrome).\n",
    "5. Upload this PDF to bCourses.\n",
    "\n",
    "---\n",
    "Notebook developed by: Chris Pyles\n",
    "\n",
    "Data Science Modules: http://data.berkeley.edu/education/modules"
   ]
  },
  {
   "cell_type": "markdown",
   "metadata": {},
   "source": [
    " "
   ]
  }
 ],
 "metadata": {
  "@webio": {
   "lastCommId": null,
   "lastKernelId": null
  },
  "kernelspec": {
   "display_name": "Python 3",
   "language": "python",
   "name": "python3"
  },
  "language_info": {
   "codemirror_mode": {
    "name": "ipython",
    "version": 3
   },
   "file_extension": ".py",
   "mimetype": "text/x-python",
   "name": "python",
   "nbconvert_exporter": "python",
   "pygments_lexer": "ipython3",
   "version": "3.6.5"
  },
  "varInspector": {
   "cols": {
    "lenName": 16,
    "lenType": 16,
    "lenVar": 40
   },
   "kernels_config": {
    "python": {
     "delete_cmd_postfix": "",
     "delete_cmd_prefix": "del ",
     "library": "var_list.py",
     "varRefreshCmd": "print(var_dic_list())"
    },
    "r": {
     "delete_cmd_postfix": ") ",
     "delete_cmd_prefix": "rm(",
     "library": "var_list.r",
     "varRefreshCmd": "cat(var_dic_list()) "
    }
   },
   "types_to_exclude": [
    "module",
    "function",
    "builtin_function_or_method",
    "instance",
    "_Feature"
   ],
   "window_display": false
  }
 },
 "nbformat": 4,
 "nbformat_minor": 2
}
