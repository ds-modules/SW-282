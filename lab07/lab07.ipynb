{
 "cells": [
  {
   "cell_type": "markdown",
   "metadata": {},
   "source": [
    "# SW 282: Lab 7 - Hypotheses\n",
    "\n",
    "---\n",
    "\n",
    "### Proessor Erin Kerrison\n",
    "\n",
    "In this notebook, you will use the matplotlib skills you've learned to plot histograms and to generate Z-scores for randomly selected data points."
   ]
  },
  {
   "cell_type": "code",
   "execution_count": null,
   "metadata": {},
   "outputs": [],
   "source": [
    "from datascience import *\n",
    "import numpy as np\n",
    "import matplotlib.pyplot as plt\n",
    "%matplotlib inline\n",
    "plt.rcParams[\"figure.figsize\"] = [9,6]"
   ]
  },
  {
   "cell_type": "markdown",
   "metadata": {},
   "source": [
    "To demonstrate the concepts in this notebook, we will use data from [USEIA State Energy Data Systems](https://www.eia.gov/state/seds/) that has data about energy use and pricing. The data set we will be working with describes the median total energy cost by state and year in current dollars per million [BTUs](https://en.wikipedia.org/wiki/British_thermal_unit)."
   ]
  },
  {
   "cell_type": "code",
   "execution_count": null,
   "metadata": {},
   "outputs": [],
   "source": [
    "seds = Table.read_table(\"seds-data.csv\")\n",
    "seds"
   ]
  },
  {
   "cell_type": "markdown",
   "metadata": {},
   "source": [
    "## Histograms\n",
    "\n",
    "In this section, we'll look at the distributions of the energy prices across three decades (in the years 1980, 1990, and 2000). We also look at the standard deviation for the data for that year."
   ]
  },
  {
   "cell_type": "code",
   "execution_count": null,
   "metadata": {},
   "outputs": [],
   "source": [
    "seds_1980 = seds.where(\"Year\", are.equal_to(1980))\n",
    "\n",
    "seds_1980.hist(\"Energy Price\", bins=20)\n",
    "plt.title(\"1980 Energy Price\");\n",
    "\n",
    "sd_1980 = np.std(seds_1980.column(\"Energy Price\"))\n",
    "print(\"The standard deviation for 1980 is: {:.5f}\".format(sd_1980))"
   ]
  },
  {
   "cell_type": "code",
   "execution_count": null,
   "metadata": {},
   "outputs": [],
   "source": [
    "seds_1990 = seds.where(\"Year\", are.equal_to(1990))\n",
    "\n",
    "seds_1990.hist(\"Energy Price\", bins=20)\n",
    "plt.title(\"1990 Energy Price\");\n",
    "\n",
    "sd_1990 = np.std(seds_1990.column(\"Energy Price\"))\n",
    "print(\"The standard deviation for 1990 is: {:.5f}\".format(sd_1990))"
   ]
  },
  {
   "cell_type": "code",
   "execution_count": null,
   "metadata": {},
   "outputs": [],
   "source": [
    "seds_2000 = seds.where(\"Year\", are.equal_to(2000))\n",
    "\n",
    "seds_2000.hist(\"Energy Price\", bins=20)\n",
    "plt.title(\"2000 Energy Price\");\n",
    "\n",
    "sd_2000 = np.std(seds_2000.column(\"Energy Price\"))\n",
    "print(\"The standard deviation for 2000 is: {:.5f}\".format(sd_2000))"
   ]
  },
  {
   "cell_type": "markdown",
   "metadata": {},
   "source": [
    "The histograms all look very similar, but that could be because they're all being plotted on axes of different scale. Let's plot all of the histograms on the same pair of axes to see how the distributions are changing."
   ]
  },
  {
   "cell_type": "code",
   "execution_count": null,
   "metadata": {},
   "outputs": [],
   "source": [
    "for year in np.arange(1980, 2001, 10):\n",
    "    plt.hist(x=\"Energy Price\", data=seds.where(\"Year\", year), bins=20, alpha=.5)\n",
    "\n",
    "plt.legend(np.arange(1980, 2001, 10));"
   ]
  },
  {
   "cell_type": "markdown",
   "metadata": {},
   "source": [
    "The plot above shows that although the _shape_ of the distribution hasn't changed much over time, its _scale_ has increased (meaning that the data have greater spread and are centered at a higher value)."
   ]
  },
  {
   "cell_type": "markdown",
   "metadata": {},
   "source": [
    "## Z-Scores\n",
    "\n",
    "In this section, we want to calculate the Z-score of a randomly selected data point from one of years shown above. To calculate the Z-score of a data point, we can use the function `scipy.stats.zscore`, which takes in an array of values and returns an array of Z-scores. To randomly select the value, we'll use `np.random.choice` to choose from an array of _index values_ which will correspond both to the values of the array of data points _and_ to the value in the array returned by `stats.zscore`."
   ]
  },
  {
   "cell_type": "code",
   "execution_count": null,
   "metadata": {},
   "outputs": [],
   "source": [
    "from scipy import stats\n",
    "\n",
    "# extract the array of data points from the table created above\n",
    "prices_1980 = seds_1980.column(\"Energy Price\")\n",
    "\n",
    "# create an array of indices using the length of the array\n",
    "num_1980 = len(prices_1980)\n",
    "indices_1980 = np.arange(num_1980)\n",
    "\n",
    "# randomly select the index\n",
    "idx_1980 = np.random.choice(indices_1980)\n",
    "\n",
    "# calculate the Z-scores\n",
    "zs_1980 = stats.zscore(prices_1980)\n",
    "\n",
    "print(\"1980: The Z-score for {} is {:.5f}\".format(prices_1980[idx_1980], zs_1980[idx_1980]))"
   ]
  },
  {
   "cell_type": "markdown",
   "metadata": {},
   "source": [
    "**Question:** In the cells below, calculate the Z-scores for randomly selected values from 1990 and 2000."
   ]
  },
  {
   "cell_type": "code",
   "execution_count": null,
   "metadata": {},
   "outputs": [],
   "source": [
    "# extract the array of data points from the table created above\n",
    "prices_1990 = ...\n",
    "\n",
    "# create an array of indices using the length of the array\n",
    "num_1990 = ...\n",
    "indices_1990 = ...\n",
    "\n",
    "# randomly select the index\n",
    "idx_1990 = ...\n",
    "\n",
    "# calculate the Z-scores\n",
    "zs_1990 = ...\n",
    "\n",
    "print(\"1990: The Z-score for {} is {:.5f}\".format(prices_1990[idx_1990], zs_1990[idx_1990]))"
   ]
  },
  {
   "cell_type": "code",
   "execution_count": null,
   "metadata": {},
   "outputs": [],
   "source": [
    "# extract the array of data points from the table created above\n",
    "prices_2000 = ...\n",
    "\n",
    "# create an array of indices using the length of the array\n",
    "num_2000 = ...\n",
    "indices_2000 = ...\n",
    "\n",
    "# randomly select the index\n",
    "idx_2000 = ...\n",
    "\n",
    "# calculate the Z-scores\n",
    "zs_2000 = ...\n",
    "\n",
    "print(\"2000: The Z-score for {} is {:.5f}\".format(prices_2000[idx_2000], zs_2000[idx_2000]))"
   ]
  },
  {
   "cell_type": "markdown",
   "metadata": {},
   "source": [
    "---\n",
    "\n",
    "### References\n",
    "\n",
    "The data for this notebook is from https://www.eia.gov/state/seds/seds-data-complete.php?sid=US#CompleteDataFile."
   ]
  },
  {
   "cell_type": "markdown",
   "metadata": {},
   "source": [
    " "
   ]
  }
 ],
 "metadata": {
  "kernelspec": {
   "display_name": "Python 3",
   "language": "python",
   "name": "python3"
  },
  "language_info": {
   "codemirror_mode": {
    "name": "ipython",
    "version": 3
   },
   "file_extension": ".py",
   "mimetype": "text/x-python",
   "name": "python",
   "nbconvert_exporter": "python",
   "pygments_lexer": "ipython3",
   "version": "3.6.8"
  }
 },
 "nbformat": 4,
 "nbformat_minor": 2
}
