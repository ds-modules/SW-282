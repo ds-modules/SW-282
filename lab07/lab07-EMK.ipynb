{
 "cells": [
  {
   "cell_type": "markdown",
   "metadata": {},
   "source": [
    "# SW 282: Lab 7 - Hypotheses\n",
    "\n",
    "---\n",
    "\n",
    "### Professor Erin Kerrison\n",
    "\n",
    "In this notebook, you will use the matplotlib skills you've worked with thus far, to plot histograms and to generate Z-scores for randomly selected data points."
   ]
  },
  {
   "cell_type": "code",
   "execution_count": null,
   "metadata": {},
   "outputs": [],
   "source": [
    "from datascience import *\n",
    "import numpy as np\n",
    "import matplotlib.pyplot as plt\n",
    "%matplotlib inline\n",
    "plt.rcParams[\"figure.figsize\"] = [9,6]"
   ]
  },
  {
   "cell_type": "markdown",
   "metadata": {},
   "source": [
    "To demonstrate the concepts in this notebook, we will use the [USEIA State Energy Data Systems (\"SEDS\")](https://www.eia.gov/state/seds/) dataset, which includes national data collected on energy use and pricing. The SEDS dataset enables us to create a historical time series of energy production, consumption, prices, and expenditures by state, all of which  are defined as consistently as possible over time and across sectors for analysis and forecasting purposes.\n",
    "\n",
    "The specific data points we will be working with describe the median total energy cost by state and year in current dollars (per million)."
   ]
  },
  {
   "cell_type": "code",
   "execution_count": null,
   "metadata": {},
   "outputs": [],
   "source": [
    "# Let's begin as we normally do, by glancing at an abbreviated table illustrating how the data are organized.\n",
    "\n",
    "seds = Table.read_table(\"seds-data.csv\")\n",
    "seds"
   ]
  },
  {
   "cell_type": "markdown",
   "metadata": {},
   "source": [
    "## Histograms\n",
    "\n",
    "Now that we've pulled the dataset into Python and can visually see how the variables are organized in table form, let's turn to a second visual, which captures the distributions of the energy prices across three decades (in the years 1980, 1990, and 2000). We will also compute the standard deviation for the data distributon in each of those three years."
   ]
  },
  {
   "cell_type": "code",
   "execution_count": null,
   "metadata": {},
   "outputs": [],
   "source": [
    "seds_1980 = seds.where(\"Year\", are.equal_to(1980))\n",
    "\n",
    "seds_1980.hist(\"Energy Price\", bins=20)\n",
    "plt.title(\"1980 Energy Price\");\n",
    "\n",
    "sd_1980 = np.std(seds_1980.column(\"Energy Price\"))\n",
    "print(\"The standard deviation for 1980 is: {:.5f}\".format(sd_1980))"
   ]
  },
  {
   "cell_type": "code",
   "execution_count": null,
   "metadata": {},
   "outputs": [],
   "source": [
    "seds_1990 = seds.where(\"Year\", are.equal_to(1990))\n",
    "\n",
    "seds_1990.hist(\"Energy Price\", bins=20)\n",
    "plt.title(\"1990 Energy Price\");\n",
    "\n",
    "sd_1990 = np.std(seds_1990.column(\"Energy Price\"))\n",
    "print(\"The standard deviation for 1990 is: {:.5f}\".format(sd_1990))"
   ]
  },
  {
   "cell_type": "code",
   "execution_count": null,
   "metadata": {},
   "outputs": [],
   "source": [
    "seds_2000 = seds.where(\"Year\", are.equal_to(2000))\n",
    "\n",
    "seds_2000.hist(\"Energy Price\", bins=20)\n",
    "plt.title(\"2000 Energy Price\");\n",
    "\n",
    "sd_2000 = np.std(seds_2000.column(\"Energy Price\"))\n",
    "print(\"The standard deviation for 2000 is: {:.5f}\".format(sd_2000))"
   ]
  },
  {
   "cell_type": "markdown",
   "metadata": {},
   "source": [
    "The histograms all look very similar, but that could be because they're all being plotted on axes of different scales. Recall that we don't believe in junk science or distorted visuals!!\n",
    "\n",
    "So, let's plot all of the histograms on the same pair of axes to see how the distributions are changing when compared in a standardized visual format."
   ]
  },
  {
   "cell_type": "code",
   "execution_count": null,
   "metadata": {},
   "outputs": [],
   "source": [
    "for year in np.arange(1980, 2001, 10):\n",
    "    plt.hist(x=\"Energy Price\", data=seds.where(\"Year\", year), bins=20, alpha=.5)\n",
    "\n",
    "plt.xlabel(\"Median Energy Costs in 2019 $, per million BTUs\")\n",
    "plt.ylabel(\"Percent per Unit\");\n",
    "\n",
    "plt.legend(np.arange(1980, 2001, 10));"
   ]
  },
  {
   "cell_type": "markdown",
   "metadata": {},
   "source": [
    "The plot that you just created above shows that although the _shape_ of the distribution hasn't changed much over time, its _scale_ has increased.  You can see that the data sampled at 1980, 1990, and 2000 move towards a greater spread and are centered at a higher value as time passes."
   ]
  },
  {
   "cell_type": "markdown",
   "metadata": {},
   "source": [
    "## Z-Scores\n",
    "\n",
    "In this section, we want to calculate the Z-score of a randomly selected data point from one of years shown above. To calculate the Z-score of a data point, we can use the function `scipy.stats.zscore`, which takes in an array of values and returns an array of Z-scores. \n",
    "\n",
    "To randomly select the value, we'll use `np.random.choice` to choose from an array of _index values_ (generated using `np.arange` and the length of the array) which will correspond both to the values of the array of data points _and_ to the value in the array returned by `stats.zscore`. Remember that in Python, the index values for an array of length $n$ go from $0$ to $n-1$ and that we can access the element at index $i$ using square brackets: `arr[i]`."
   ]
  },
  {
   "cell_type": "code",
   "execution_count": null,
   "metadata": {},
   "outputs": [],
   "source": [
    "from scipy import stats\n",
    "\n",
    "# extract the array of data points from the table created above\n",
    "prices_1980 = seds_1980.column(\"Energy Price\")\n",
    "\n",
    "# create an array of indices using the length of the array\n",
    "num_1980 = len(prices_1980)\n",
    "indices_1980 = np.arange(num_1980)   # returns an array 0, 1, 2, ..., num_1980 - 1\n",
    "\n",
    "# randomly select the index\n",
    "idx_1980 = np.random.choice(indices_1980)\n",
    "\n",
    "# calculate the Z-scores\n",
    "zs_1980 = stats.zscore(prices_1980)\n",
    "\n",
    "print(\"1980: The Z-score for {} is {:.5f}\".format(prices_1980[idx_1980], zs_1980[idx_1980]))"
   ]
  },
  {
   "cell_type": "markdown",
   "metadata": {},
   "source": [
    "Try running that last cell a few more times and take note of how the z-score changes every time a differnet random state's median energy price data point is selected."
   ]
  },
  {
   "cell_type": "markdown",
   "metadata": {},
   "source": [
    "<div class=\"alert alert-info\">\n",
    "\n",
    "**QUESTION:** Relying on your understanding of the code you just ran for the 1980 data sample, in the cells below, please calculate the Z-scores for randomly selected values from 1990 and 2000.\n",
    "\n",
    "</div>"
   ]
  },
  {
   "cell_type": "code",
   "execution_count": null,
   "metadata": {},
   "outputs": [],
   "source": [
    "# extract the array of data points from the table created above\n",
    "prices_1990 = seds_1990.column(\"Energy Price\")\n",
    "\n",
    "# create an array of indices using the length of the array\n",
    "num_1990 = len(prices_1990)\n",
    "indices_1990 = np.arange(num_1990)   # returns an array 0, 1, 2, ..., num_1990 - 1\n",
    "\n",
    "# randomly select the index\n",
    "idx_1990 = np.random.choice(indices_1990)\n",
    "\n",
    "# calculate the Z-scores\n",
    "zs_1990 = stats.zscore(prices_1990)\n",
    "\n",
    "print(\"1990: The Z-score for {} is {:.5f}\".format(prices_1990[idx_1990], zs_1990[idx_1990]))"
   ]
  },
  {
   "cell_type": "markdown",
   "metadata": {},
   "source": [
    "<div class=\"alert alert-info\">\n",
    "\n",
    "**QUESTION:** I know it's fun to generate randomly selcted median energy cost values from 1990, but please settle on one in order to answer the following question? How do you interpret that output? In other words, what does the randomly selected value tell you AND what does its z-score suggest? \n",
    "\n",
    "</div>"
   ]
  },
  {
   "cell_type": "markdown",
   "metadata": {},
   "source": [
    "_**Type your answer here, replacing this text.**_"
   ]
  },
  {
   "cell_type": "code",
   "execution_count": null,
   "metadata": {},
   "outputs": [],
   "source": [
    "# extract the array of data points from the table created above\n",
    "prices_2000 = ...\n",
    "\n",
    "# create an array of indices using the length of the array\n",
    "num_2000 = ...\n",
    "indices_2000 = ...\n",
    "\n",
    "# randomly select the index\n",
    "idx_2000 = ...\n",
    "\n",
    "# calculate the Z-scores\n",
    "zs_2000 = ...\n",
    "\n",
    "print(\"2000: The Z-score for {} is {:.5f}\".format(prices_2000[idx_2000], zs_2000[idx_2000]))"
   ]
  },
  {
   "cell_type": "markdown",
   "metadata": {},
   "source": [
    "<div class=\"alert alert-info\">\n",
    "\n",
    "**QUESTION:** Again, please choose one randomly selected energy costs value from 2000 to answer the following: How do you interpret that output? What does the randomly selected value tell you AND what does its z-score suggest? \n",
    "\n",
    "</div>"
   ]
  },
  {
   "cell_type": "markdown",
   "metadata": {},
   "source": [
    "_**Type your answer here, replacing this text.**_"
   ]
  },
  {
   "cell_type": "markdown",
   "metadata": {},
   "source": [
    "---\n",
    "\n",
    "### References\n",
    "\n",
    "The data for this notebook is from https://www.eia.gov/state/seds/seds-data-complete.php?sid=US#CompleteDataFile."
   ]
  },
  {
   "cell_type": "markdown",
   "metadata": {},
   "source": [
    " "
   ]
  }
 ],
 "metadata": {
  "kernelspec": {
   "display_name": "Python 3",
   "language": "python",
   "name": "python3"
  },
  "language_info": {
   "codemirror_mode": {
    "name": "ipython",
    "version": 3
   },
   "file_extension": ".py",
   "mimetype": "text/x-python",
   "name": "python",
   "nbconvert_exporter": "python",
   "pygments_lexer": "ipython3",
   "version": "3.6.8"
  }
 },
 "nbformat": 4,
 "nbformat_minor": 2
}
