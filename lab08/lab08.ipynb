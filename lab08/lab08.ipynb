{
 "cells": [
  {
   "cell_type": "markdown",
   "metadata": {},
   "source": [
    "# SW 282: Lab 8 - Sampling, Z-tests, and T-tests\n",
    "\n",
    "---\n",
    "\n",
    "### Proessor Erin Kerrison"
   ]
  },
  {
   "cell_type": "code",
   "execution_count": null,
   "metadata": {},
   "outputs": [],
   "source": [
    "from datascience import *\n",
    "import numpy as np\n",
    "import matplotlib.pyplot as plt\n",
    "%matplotlib inline\n",
    "plt.rcParams[\"figure.figsize\"] = [9,6]"
   ]
  },
  {
   "cell_type": "markdown",
   "metadata": {},
   "source": [
    "## Part 1\n",
    "\n",
    "In this section of the notebook, we'll be working with a dataset from United Airlines that gives the delay of arrivals to airports in June 2015 in minutes. We load the dataset below."
   ]
  },
  {
   "cell_type": "code",
   "execution_count": null,
   "metadata": {},
   "outputs": [],
   "source": [
    "united = Table.read_table(\"united.csv\")\n",
    "united"
   ]
  },
  {
   "cell_type": "markdown",
   "metadata": {},
   "source": [
    "We can find the population size by finding the number of rows in the table; conveniently, the `Table` object has a `num_rows` attribute that stores the number of rows. If we had a table `data`, then the number of rows in that table is `data.num_rows`.\n",
    "\n",
    "**Question 1.1:** Find the population size of our dataset."
   ]
  },
  {
   "cell_type": "code",
   "execution_count": null,
   "metadata": {},
   "outputs": [],
   "source": [
    "..."
   ]
  },
  {
   "cell_type": "markdown",
   "metadata": {},
   "source": [
    "Now let's write functions to calculate the mean and standard devation of our data.\n",
    "\n",
    "**Question 1.2:** Write a function `mean` which takes in an array of values and returns its mean. Recall that the formula of the mean is\n",
    "\n",
    "$$\\Large\n",
    "\\bar{x} = \\frac{1}{n} \\sum_{i=1}^n x_i\n",
    "$$\n",
    "\n",
    "where $n$ is the number of $x_i$'s. Use your function to calculate the mean of the `Delay` column of our table."
   ]
  },
  {
   "cell_type": "code",
   "execution_count": null,
   "metadata": {},
   "outputs": [],
   "source": [
    "def mean(x):\n",
    "    \"\"\"Returns the mean of the array x\"\"\"\n",
    "    return ...\n",
    "\n",
    "mean(...)"
   ]
  },
  {
   "cell_type": "markdown",
   "metadata": {},
   "source": [
    "**Question 1.3:** Write a function `std` which takes in an array of values and returns its standard deviation. Recall the the formula of the standard deviation is \n",
    "\n",
    "$$\\Large\n",
    "\\sigma = \\sqrt{\\frac{\\sum_{i=1}^n (x_i - \\bar{x})^2}{N}}\n",
    "$$\n",
    "\n",
    "where $n$ is the number of $x_i$'s. Use your function to calculate the mean of the `Delay` column of our table.\n",
    "\n",
    "_Hint:_ You will need to use your `mean` function from above."
   ]
  },
  {
   "cell_type": "code",
   "execution_count": null,
   "metadata": {},
   "outputs": [],
   "source": [
    "def std(x):\n",
    "    \"\"\"Returns the standard devation of x\"\"\"\n",
    "    return ...\n",
    "\n",
    "std(...)"
   ]
  },
  {
   "cell_type": "markdown",
   "metadata": {},
   "source": [
    "Luckily, NumPy provides mean and standard deviation functions, so we don't need to write functions to compute them each time. The functions for the mean and SD are `np.mean` and `np.std`, respectively.\n",
    "\n",
    "**Question 1.4:** Use `np.mean` and `np.std` to calculate the mean and SD of the `Delay` column of our table."
   ]
  },
  {
   "cell_type": "code",
   "execution_count": null,
   "metadata": {},
   "outputs": [],
   "source": [
    "# mean\n",
    "..."
   ]
  },
  {
   "cell_type": "code",
   "execution_count": null,
   "metadata": {},
   "outputs": [],
   "source": [
    "# SD\n",
    "..."
   ]
  },
  {
   "cell_type": "markdown",
   "metadata": {},
   "source": [
    "Now let's work on some sampling. Recall that we can create a simple random sample of our table using `Table.sample` with the `with_replacement` argument set to `False`.\n",
    "\n",
    "**Question 1.5:** Create a SRS of our table of $n=500$ observations."
   ]
  },
  {
   "cell_type": "code",
   "execution_count": null,
   "metadata": {},
   "outputs": [],
   "source": [
    "n = 500\n",
    "sample = ...\n",
    "sample"
   ]
  },
  {
   "cell_type": "markdown",
   "metadata": {},
   "source": [
    "**Question 1.6:** Calculate the mean and standard deviation of your sample's `Delay` column."
   ]
  },
  {
   "cell_type": "code",
   "execution_count": null,
   "metadata": {},
   "outputs": [],
   "source": [
    "# mean\n",
    "..."
   ]
  },
  {
   "cell_type": "code",
   "execution_count": null,
   "metadata": {},
   "outputs": [],
   "source": [
    "# SD\n",
    "..."
   ]
  },
  {
   "cell_type": "markdown",
   "metadata": {},
   "source": [
    "Recall that we can calculate the _standard error of the mean_ as the standard deviation of the sampling distribution of the mean. If we have a set of values $x_i$ with $i = 1, ..., n$ and SD $\\sigma$ then the SE of the mean is\n",
    "\n",
    "$$\\Large\n",
    "\\sigma_m = \\frac{\\sigma}{\\sqrt{n}}\n",
    "$$\n",
    "\n",
    "**Question 1.7:** Write a function `sem` that calculates the standard error of the mean. Use it to find the SEM of the `Delay` column of the `united` table."
   ]
  },
  {
   "cell_type": "code",
   "execution_count": null,
   "metadata": {},
   "outputs": [],
   "source": [
    "def sem(arr):\n",
    "    \"\"\"Returns the standard error of the mean of x\"\"\"\n",
    "    return ...\n",
    "\n",
    "sem(...)"
   ]
  },
  {
   "cell_type": "markdown",
   "metadata": {},
   "source": [
    "As with the mean and SD, there is a function that will calculate this value for us; it is in the `stats` submodule of SciPy.\n",
    "\n",
    "**Question 1.8:** Use `stats.sem` to compute the standard error of the mean of the `Delay` column of the `united` table."
   ]
  },
  {
   "cell_type": "code",
   "execution_count": null,
   "metadata": {},
   "outputs": [],
   "source": [
    "from scipy import stats\n",
    "\n",
    "..."
   ]
  },
  {
   "cell_type": "markdown",
   "metadata": {},
   "source": [
    "To perform a z-test on our sample, we can use the `statsmodels` library, which contains many machine learning and statistics functions. The function we will use is `statsmodels.stats.weightstats.ztest`. To use it, just pass it the array of your sample's `Delay` values.\n",
    "\n",
    "**Question 1.9:** Perform a z-test on your sample.\n",
    "\n",
    "_Hint:_ Because of he we've imported the function, your call will look like `weightstats.ztest(...)`."
   ]
  },
  {
   "cell_type": "code",
   "execution_count": null,
   "metadata": {},
   "outputs": [],
   "source": [
    "from statsmodels.stats import weightstats\n",
    "\n",
    "..."
   ]
  },
  {
   "cell_type": "markdown",
   "metadata": {},
   "source": [
    "The `ztest` function returns a tuple; the first value is the test statistic, and the second is the p-value of the test."
   ]
  },
  {
   "cell_type": "markdown",
   "metadata": {},
   "source": [
    "## Part 2\n",
    "\n",
    "In this section, we'll be using another SPSS-formatted dataset. In the cell below, we use the usual pipeline to read this into a `Table`."
   ]
  },
  {
   "cell_type": "code",
   "execution_count": null,
   "metadata": {},
   "outputs": [],
   "source": [
    "import pyreadstat\n",
    "\n",
    "df, _ = pyreadstat.read_sav(\"ch-11-dataset-2.sav\")\n",
    "data = Table.from_df(df)\n",
    "data"
   ]
  },
  {
   "cell_type": "markdown",
   "metadata": {},
   "source": [
    "Let's look at the means of `Hands_Up` grouped by `Gender`. Recall that we can group values in a table using `Table.group` and giving it the label of a column. This function can also take in an optional _aggregator function_ to which it will pass an array of values and the value in the column will be the value returned by this function.\n",
    "\n",
    "For example, if I wanted the standard deviation grouped by gender, my call to `Table.group` would be\n",
    "\n",
    "```python\n",
    "data.group(\"Gender\", np.std)\n",
    "```\n",
    "\n",
    "**Question 2.1:** Calculate the mean of `Hands_Up` grouped by `Gender`. Use `Table.group`."
   ]
  },
  {
   "cell_type": "code",
   "execution_count": null,
   "metadata": {},
   "outputs": [],
   "source": [
    "..."
   ]
  },
  {
   "cell_type": "markdown",
   "metadata": {},
   "source": [
    "Now let's perform a T-test on each group. Again, `scipy.stats` provides a useful function for this: `stats.ttest_ind`. To use it, pass it two arrays that you would like it to compare.\n",
    "\n",
    "**Question 2.2:** Create two arrays, `hands_1` and `hands_2`, of the `Hands_Up` values for each `Gender` value. Then perform a T-test on these arrays using `stats.ttest_ind`.\n",
    "\n",
    "_Hint:_ Recall that you can filter rows based on some value of a column using `Table.where(column, are.equal_to(value))`."
   ]
  },
  {
   "cell_type": "code",
   "execution_count": null,
   "metadata": {},
   "outputs": [],
   "source": [
    "hands_1 = data.where(...).column(\"Hands_Up\")\n",
    "hands_2 = data.where(...).column(\"Hands_Up\")\n",
    "\n",
    "..."
   ]
  },
  {
   "cell_type": "markdown",
   "metadata": {},
   "source": [
    "Notice in our result that we're given both the test statistic value and the p-value."
   ]
  },
  {
   "cell_type": "markdown",
   "metadata": {},
   "source": [
    "---\n",
    "\n",
    "### References\n",
    "\n",
    "The data for this notebook is from https://www.eia.gov/state/seds/seds-data-complete.php?sid=US#CompleteDataFile."
   ]
  },
  {
   "cell_type": "markdown",
   "metadata": {},
   "source": [
    " "
   ]
  }
 ],
 "metadata": {
  "kernelspec": {
   "display_name": "Python 3",
   "language": "python",
   "name": "python3"
  },
  "language_info": {
   "codemirror_mode": {
    "name": "ipython",
    "version": 3
   },
   "file_extension": ".py",
   "mimetype": "text/x-python",
   "name": "python",
   "nbconvert_exporter": "python",
   "pygments_lexer": "ipython3",
   "version": "3.6.8"
  }
 },
 "nbformat": 4,
 "nbformat_minor": 2
}
