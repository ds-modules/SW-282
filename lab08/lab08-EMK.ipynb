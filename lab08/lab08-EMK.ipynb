{
 "cells": [
  {
   "cell_type": "markdown",
   "metadata": {},
   "source": [
    "# SW 282: Lab 8 - Sampling and T-tests\n",
    "\n",
    "---\n",
    "\n",
    "### Professor Erin Kerrison"
   ]
  },
  {
   "cell_type": "code",
   "execution_count": null,
   "metadata": {},
   "outputs": [],
   "source": [
    "from datascience import *\n",
    "import numpy as np\n",
    "import pyreadstat\n",
    "from scipy import stats\n",
    "from statsmodels.stats import weightstats\n",
    "import matplotlib.pyplot as plt\n",
    "%matplotlib inline\n",
    "plt.rcParams[\"figure.figsize\"] = [9,6]"
   ]
  },
  {
   "cell_type": "markdown",
   "metadata": {},
   "source": [
    "## Part 1\n",
    "\n",
    "In this section of the notebook, we'll be working with a dataset from United Airlines that provides the delay of arrivals to airports (in minutes) for the month of June 2015. Please load the dataset and review how the data are oganized, by running the cell below."
   ]
  },
  {
   "cell_type": "code",
   "execution_count": null,
   "metadata": {},
   "outputs": [],
   "source": [
    "united = Table.read_table(\"united.csv\")\n",
    "united"
   ]
  },
  {
   "cell_type": "markdown",
   "metadata": {},
   "source": [
    "We can determine the total population size (all of the delated United Airlines flights observed for that month) by calculating the number of rows in the full table.  \n",
    "\n",
    "Conveniently, the `Table` object has a `num_rows` attribute that stores the number of rows. Once we transform our table to `data`, we can then determine the number of rows in that table (or how many delayed flights are included in this dataset) by simply running Python's `data.num_rows` command. \n",
    "\n",
    "**Question 1.1:** I have renamed United Airlines table for you.  In the cell below, please run the command that will provide you with the population size of our dataset."
   ]
  },
  {
   "cell_type": "code",
   "execution_count": null,
   "metadata": {},
   "outputs": [],
   "source": [
    "data=united\n",
    "data.num_rows"
   ]
  },
  {
   "cell_type": "markdown",
   "metadata": {},
   "source": [
    "<div class=\"alert alert-info\">\n",
    "\n",
    "**QUESTION:** What does the output above represent? Please interpret thje vlue in the cell below.**\n",
    "\n",
    "</div>"
   ]
  },
  {
   "cell_type": "markdown",
   "metadata": {},
   "source": [
    "_**Type your answer here, replacing this text.**_"
   ]
  },
  {
   "cell_type": "markdown",
   "metadata": {},
   "source": [
    "As you will recall, NumPy provides mean and standard deviation functions. The functions for the mean and SD are `np.mean` and `np.std`, respectively. These functions work on arrays, so let's extract the `Delay` column of our table into an array, which we will call `delays`."
   ]
  },
  {
   "cell_type": "code",
   "execution_count": null,
   "metadata": {},
   "outputs": [],
   "source": [
    "delays = united.column(\"Delay\")\n",
    "delays"
   ]
  },
  {
   "cell_type": "markdown",
   "metadata": {},
   "source": [
    "Now let's use `np.mean` and `np.std` to calculate the mean and SD of the `delays` array."
   ]
  },
  {
   "cell_type": "code",
   "execution_count": null,
   "metadata": {},
   "outputs": [],
   "source": [
    "# mean\n",
    "np.mean(delays)"
   ]
  },
  {
   "cell_type": "code",
   "execution_count": null,
   "metadata": {},
   "outputs": [],
   "source": [
    "# SD\n",
    "np.std(delays)"
   ]
  },
  {
   "cell_type": "markdown",
   "metadata": {},
   "source": [
    "Now let's work on some sampling. Recall that we can create a simple random sample (SRS) of our table using `Table.sample` with the `with_replacement` argument set to `False`. In the cell below, we create a SRS of our table of $n=500$ observations and extract the delays into the `sample_delays` array."
   ]
  },
  {
   "cell_type": "code",
   "execution_count": null,
   "metadata": {},
   "outputs": [],
   "source": [
    "n = 500\n",
    "sample = united.sample(n, with_replacement=False)\n",
    "sample_delays = sample.column(\"Delay\")\n",
    "sample_delays"
   ]
  },
  {
   "cell_type": "markdown",
   "metadata": {},
   "source": [
    "That's a lot of values!! Let's try to make sense of this distribution by identifying some measures of central tendency.  For our random sample, let's calculate the mean and standard deviation of the `sample_delays` array."
   ]
  },
  {
   "cell_type": "code",
   "execution_count": null,
   "metadata": {},
   "outputs": [],
   "source": [
    "# mean\n",
    "np.mean(sample_delays)"
   ]
  },
  {
   "cell_type": "code",
   "execution_count": null,
   "metadata": {},
   "outputs": [],
   "source": [
    "# SD\n",
    "np.std(sample_delays)"
   ]
  },
  {
   "cell_type": "markdown",
   "metadata": {},
   "source": [
    "<div class=\"alert alert-info\">\n",
    "\n",
    "**QUESTION:** From what you understand of the sample's mean and standard deviation, how would you interpet the last two values that you calucluted above? **\n",
    "\n",
    "</div>"
   ]
  },
  {
   "cell_type": "markdown",
   "metadata": {},
   "source": [
    "_**Type your answer here, replacing this text.**_"
   ]
  },
  {
   "cell_type": "markdown",
   "metadata": {},
   "source": [
    "Recall that we can calculate the _standard error of the mean_ as the standard deviation of the sampling distribution of the mean. If we have a set of values $x_i$ with $i = 1, ..., n$ and SD $\\sigma$ then the SE of the mean is\n",
    "\n",
    "$$\\Large\n",
    "\\sigma_m = \\frac{\\sigma}{\\sqrt{n}}\n",
    "$$\n",
    "\n",
    "As with the mean and SD, there is a function that will calculate this value for us; it is in the `stats` submodule of SciPy. In the cell below, we use `stats.sem` to compute the standard error of the mean of the `delays` array."
   ]
  },
  {
   "cell_type": "code",
   "execution_count": null,
   "metadata": {},
   "outputs": [],
   "source": [
    "stats.sem(delays)"
   ]
  },
  {
   "cell_type": "markdown",
   "metadata": {},
   "source": [
    "<div class=\"alert alert-info\">\n",
    "The standard deviation (SD) measures the amount of variability, or dispersion of data from the mean, while the standard error of the mean (SEM) measures how far the sample mean of the data is likely to be from the true population mean. \n",
    "    \n",
    "    \n",
    "**QUESTION:** Given this, what can you infer from the SEM output you just calculated above?\n",
    "\n",
    "</div>"
   ]
  },
  {
   "cell_type": "markdown",
   "metadata": {},
   "source": [
    "_**Type your answer here, replacing this text.**_"
   ]
  },
  {
   "cell_type": "markdown",
   "metadata": {},
   "source": [
    "## Part 2\n",
    "\n",
    "In this section, we'll be using another SPSS-formatted dataset. In the cell below, we use the usual pipeline to read this into a `Table`."
   ]
  },
  {
   "cell_type": "code",
   "execution_count": null,
   "metadata": {},
   "outputs": [],
   "source": [
    "df, _ = pyreadstat.read_sav(\"ch-11-dataset-2.sav\")\n",
    "data = Table.from_df(df)\n",
    "data"
   ]
  },
  {
   "cell_type": "markdown",
   "metadata": {},
   "source": [
    "Let's look at the means of `Hands_Up` grouped by `Gender`. Recall that we can group values in a table using `Table.group` and giving it the label of a column. This function can also take in an optional _aggregator function_ to which it will pass an array of values and the value in the column will be the value returned by this function.\n",
    "\n",
    "For example, if I wanted the standard deviation grouped by gender, my call to `Table.group` would be\n",
    "\n",
    "```python\n",
    "data.group(\"Gender\", np.std)\n",
    "```\n",
    "\n",
    "We calculate the mean of `Hands_Up` grouped by `Gender` using `Table.group` in the cell below."
   ]
  },
  {
   "cell_type": "code",
   "execution_count": null,
   "metadata": {},
   "outputs": [],
   "source": [
    "data.group(\"Gender\", np.mean)"
   ]
  },
  {
   "cell_type": "markdown",
   "metadata": {},
   "source": [
    "<div class=\"alert alert-info\">\n",
    "    \n",
    "    \n",
    "**QUESTION:** Please review Salkind's description of this dataset and interpret the mean values you caluculated just above.\n",
    "\n",
    "</div>"
   ]
  },
  {
   "cell_type": "markdown",
   "metadata": {},
   "source": [
    "_**Type your answer here, replacing this text.**_"
   ]
  },
  {
   "cell_type": "markdown",
   "metadata": {},
   "source": [
    "Now let's perform a T-test on each group. Again, `scipy.stats` provides a useful function for this: `stats.ttest_ind`. To use it, pass it two arrays that you would like it to compare.\n",
    "\n",
    "In the cell below, we create two arrays, `hands_1` and `hands_2`, of the `Hands_Up` values for each `Gender` value, and then perform a T-test on these arrays using `stats.ttest_ind`. Recall that you can filter rows based on some value of a column using `Table.where(column, are.equal_to(value))`."
   ]
  },
  {
   "cell_type": "code",
   "execution_count": null,
   "metadata": {},
   "outputs": [],
   "source": [
    "hands_1 = data.where(\"Gender\", are.equal_to(1)).column(\"Hands_Up\")\n",
    "hands_2 = data.where(\"Gender\", are.equal_to(2)).column(\"Hands_Up\")\n",
    "\n",
    "stats.ttest_ind(hands_1, hands_2)"
   ]
  },
  {
   "cell_type": "markdown",
   "metadata": {},
   "source": [
    "Notice in our result that we're given both the test statistic value and the p-value."
   ]
  },
  {
   "cell_type": "markdown",
   "metadata": {},
   "source": [
    "<div class=\"alert alert-info\">\n",
    " \n",
    "**QUESTION:** Are these mean values (grouped by gender) statistically different?  How do you know?\n",
    "\n",
    "</div>"
   ]
  },
  {
   "cell_type": "markdown",
   "metadata": {},
   "source": [
    "_**Type your answer here, replacing this text.**_"
   ]
  },
  {
   "cell_type": "markdown",
   "metadata": {},
   "source": [
    " "
   ]
  }
 ],
 "metadata": {
  "kernelspec": {
   "display_name": "Python 3",
   "language": "python",
   "name": "python3"
  },
  "language_info": {
   "codemirror_mode": {
    "name": "ipython",
    "version": 3
   },
   "file_extension": ".py",
   "mimetype": "text/x-python",
   "name": "python",
   "nbconvert_exporter": "python",
   "pygments_lexer": "ipython3",
   "version": "3.6.8"
  }
 },
 "nbformat": 4,
 "nbformat_minor": 2
}
