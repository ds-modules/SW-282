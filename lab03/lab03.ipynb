{
 "cells": [
  {
   "cell_type": "code",
   "execution_count": 9,
   "metadata": {},
   "outputs": [],
   "source": [
    "from datascience import *\n",
    "import pandas as pd\n",
    "import numpy as np\n",
    "import matplotlib.pyplot as plt\n",
    "import pyreadstat\n",
    "plt.style.use(\"fivethirtyeight\")\n",
    "%matplotlib inline"
   ]
  },
  {
   "cell_type": "code",
   "execution_count": 10,
   "metadata": {},
   "outputs": [
    {
     "data": {
      "text/html": [
       "<table border=\"1\" class=\"dataframe\">\n",
       "    <thead>\n",
       "        <tr>\n",
       "            <th>Predjudice</th>\n",
       "        </tr>\n",
       "    </thead>\n",
       "    <tbody>\n",
       "        <tr>\n",
       "            <td>87        </td>\n",
       "        </tr>\n",
       "        <tr>\n",
       "            <td>99        </td>\n",
       "        </tr>\n",
       "        <tr>\n",
       "            <td>87        </td>\n",
       "        </tr>\n",
       "        <tr>\n",
       "            <td>87        </td>\n",
       "        </tr>\n",
       "        <tr>\n",
       "            <td>67        </td>\n",
       "        </tr>\n",
       "        <tr>\n",
       "            <td>87        </td>\n",
       "        </tr>\n",
       "        <tr>\n",
       "            <td>77        </td>\n",
       "        </tr>\n",
       "        <tr>\n",
       "            <td>89        </td>\n",
       "        </tr>\n",
       "        <tr>\n",
       "            <td>99        </td>\n",
       "        </tr>\n",
       "        <tr>\n",
       "            <td>96        </td>\n",
       "        </tr>\n",
       "    </tbody>\n",
       "</table>\n",
       "<p>... (10 rows omitted)</p>"
      ],
      "text/plain": [
       "Predjudice\n",
       "87\n",
       "99\n",
       "87\n",
       "87\n",
       "67\n",
       "87\n",
       "77\n",
       "89\n",
       "99\n",
       "96\n",
       "... (10 rows omitted)"
      ]
     },
     "execution_count": 10,
     "metadata": {},
     "output_type": "execute_result"
    }
   ],
   "source": [
    "df, _ = pyreadstat.read_sav(\"data/ch-2-dataset-1.sav\")\n",
    "prejudice = Table.from_df(df)\n",
    "prejudice"
   ]
  },
  {
   "cell_type": "markdown",
   "metadata": {},
   "source": [
    "## Random Mean, Median, mode\n",
    "\n",
    "select using table.sample (with/without replacement?)"
   ]
  },
  {
   "cell_type": "code",
   "execution_count": 11,
   "metadata": {},
   "outputs": [
    {
     "data": {
      "text/html": [
       "<table border=\"1\" class=\"dataframe\">\n",
       "    <thead>\n",
       "        <tr>\n",
       "            <th>Predjudice</th>\n",
       "        </tr>\n",
       "    </thead>\n",
       "    <tbody>\n",
       "        <tr>\n",
       "            <td>67        </td>\n",
       "        </tr>\n",
       "        <tr>\n",
       "            <td>67        </td>\n",
       "        </tr>\n",
       "        <tr>\n",
       "            <td>99        </td>\n",
       "        </tr>\n",
       "        <tr>\n",
       "            <td>76        </td>\n",
       "        </tr>\n",
       "        <tr>\n",
       "            <td>96        </td>\n",
       "        </tr>\n",
       "        <tr>\n",
       "            <td>81        </td>\n",
       "        </tr>\n",
       "        <tr>\n",
       "            <td>87        </td>\n",
       "        </tr>\n",
       "        <tr>\n",
       "            <td>77        </td>\n",
       "        </tr>\n",
       "        <tr>\n",
       "            <td>64        </td>\n",
       "        </tr>\n",
       "        <tr>\n",
       "            <td>81        </td>\n",
       "        </tr>\n",
       "    </tbody>\n",
       "</table>"
      ],
      "text/plain": [
       "Predjudice\n",
       "67\n",
       "67\n",
       "99\n",
       "76\n",
       "96\n",
       "81\n",
       "87\n",
       "77\n",
       "64\n",
       "81"
      ]
     },
     "execution_count": 11,
     "metadata": {},
     "output_type": "execute_result"
    }
   ],
   "source": [
    "n = 10\n",
    "prejudice.sample(10)"
   ]
  },
  {
   "cell_type": "code",
   "execution_count": 12,
   "metadata": {},
   "outputs": [],
   "source": [
    "?Table.sample"
   ]
  },
  {
   "cell_type": "code",
   "execution_count": null,
   "metadata": {},
   "outputs": [],
   "source": []
  }
 ],
 "metadata": {
  "kernelspec": {
   "display_name": "Python 3",
   "language": "python",
   "name": "python3"
  },
  "language_info": {
   "codemirror_mode": {
    "name": "ipython",
    "version": 3
   },
   "file_extension": ".py",
   "mimetype": "text/x-python",
   "name": "python",
   "nbconvert_exporter": "python",
   "pygments_lexer": "ipython3",
   "version": "3.6.5"
  },
  "varInspector": {
   "cols": {
    "lenName": 16,
    "lenType": 16,
    "lenVar": 40
   },
   "kernels_config": {
    "python": {
     "delete_cmd_postfix": "",
     "delete_cmd_prefix": "del ",
     "library": "var_list.py",
     "varRefreshCmd": "print(var_dic_list())"
    },
    "r": {
     "delete_cmd_postfix": ") ",
     "delete_cmd_prefix": "rm(",
     "library": "var_list.r",
     "varRefreshCmd": "cat(var_dic_list()) "
    }
   },
   "types_to_exclude": [
    "module",
    "function",
    "builtin_function_or_method",
    "instance",
    "_Feature"
   ],
   "window_display": false
  }
 },
 "nbformat": 4,
 "nbformat_minor": 2
}
