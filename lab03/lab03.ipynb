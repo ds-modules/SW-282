{
 "cells": [
  {
   "cell_type": "markdown",
   "metadata": {},
   "source": [
    "# SW 282: Lab 3 - Data Files & Descriptive Statistics\n",
    "\n",
    "---\n",
    "\n",
    "### Proessor Erin Kerrison\n",
    "\n",
    "In this lab, we discuss how to read in data from external sources and how to calculate descriptive statistics in Python.\n",
    "\n",
    "---\n",
    "\n",
    "### Table of Contents\n",
    "\n",
    "1. [Reading Tables from Files](#section-1)\n",
    "2. [Random Sampling and the Mean, Median, and Mode](#section-2) <br>\n",
    "&nbsp;&nbsp;&nbsp; a. [Sampling from a Table](#section-2a) <br>\n",
    "&nbsp;&nbsp;&nbsp; b. [Descriptive Statistics](#section-2b)\n",
    "\n",
    "---"
   ]
  },
  {
   "cell_type": "markdown",
   "metadata": {},
   "source": [
    "#### Dependencies\n",
    "\n",
    "To begin with the lab, run the cell below, which loads in all of the Python packages we'll be making use of."
   ]
  },
  {
   "cell_type": "code",
   "execution_count": null,
   "metadata": {},
   "outputs": [],
   "source": [
    "from datascience import *\n",
    "import pandas as pd\n",
    "import numpy as np\n",
    "from scipy import stats\n",
    "import matplotlib.pyplot as plt\n",
    "plt.style.use(\"fivethirtyeight\")\n",
    "import warnings\n",
    "warnings.simplefilter('ignore', FutureWarning)\n",
    "%matplotlib inline"
   ]
  },
  {
   "cell_type": "markdown",
   "metadata": {},
   "source": [
    "## 1. Reading Tables from Files <a id=\"section-1\"></a>\n",
    "\n",
    "In the last notebook, we discussed how to create tables from scratch using arrays. In this notebook, we will start by discussing how to import data that has already been saved in a specific format. One of the most common formats for distributing rectangular data is in CSV format, which stands for comma-separated value. In a CSV file, you will see column values separated by commas, such that each line is a row:\n",
    "\n",
    "```\n",
    "Col_1,Col_2,Col_3\n",
    "1,2,3\n",
    "4,5,6\n",
    "7,8,9\n",
    "...\n",
    "```\n",
    "\n",
    "The `datascience` library provides a function to read these files: `Table.read_table`. To read in this file, you just pass the relative path to the file as a string. For example, the dataset for this notebook is stored in the `data` directory and its filename is `prejudice.csv`. Therefore, to access this file, we would make the call below:"
   ]
  },
  {
   "cell_type": "code",
   "execution_count": null,
   "metadata": {},
   "outputs": [],
   "source": [
    "prejudice = Table.read_table(\"data/prejudice.csv\")\n",
    "prejudice"
   ]
  },
  {
   "cell_type": "markdown",
   "metadata": {},
   "source": [
    "## 2. Random Sampling and the Mean, Median, and Mode <a id=\"section-2\"></a>\n",
    "\n",
    "In this section, we will cover sampling tables and descriptive statistics.\n",
    "\n",
    "### 2a. Sampling from a Table <a id=\"section-2a\"></a>\n",
    "\n",
    "To sample rows from a table, we use the `Table.sample()` function. This function defaults to sampling **with replacement**, meaning that rows can appear in the sample more than once. To create a sample with replacement of the table, we just call the sample function and pass to it the number of rows we want in our sample:"
   ]
  },
  {
   "cell_type": "code",
   "execution_count": null,
   "metadata": {},
   "outputs": [],
   "source": [
    "n = 20\n",
    "prejudice.sample(n)"
   ]
  },
  {
   "cell_type": "markdown",
   "metadata": {},
   "source": [
    "<div class=\"alert alert-info\">\n",
    "\n",
    "**QUESTION:** Create a new sample of 25 rows from `prejudice`. Store this sample as `my_sample`.\n",
    "\n",
    "</div>"
   ]
  },
  {
   "cell_type": "code",
   "execution_count": null,
   "metadata": {},
   "outputs": [],
   "source": [
    "n = ...\n",
    "my_sample = ..."
   ]
  },
  {
   "cell_type": "markdown",
   "metadata": {},
   "source": [
    "### 2b. Descriptive Statistics <a id=\"section-2b\"></a>\n",
    "\n",
    "The `numpy` package which we have previously discussed provides tools to compute some descriptives statistics on arrays of numerical data. These functions take in arrays, not tables, so in order to use them, we will need to extract data from our table.\n",
    "\n",
    "#### Extracting Columns\n",
    "\n",
    "To get an array of the values in a column of a table, we use the function `Table.column()`, which takes a column label as its parameter and returns an array of the values in that column."
   ]
  },
  {
   "cell_type": "code",
   "execution_count": null,
   "metadata": {},
   "outputs": [],
   "source": [
    "my_values = my_sample.column(\"Prejudice\")\n",
    "my_values"
   ]
  },
  {
   "cell_type": "markdown",
   "metadata": {},
   "source": [
    "With the array `my_values`, we can now compute some descriptive statistics on your sampled data.\n",
    "\n",
    "#### Means\n",
    "\n",
    "To compute the mean of a sample, pass the array to `np.mean`."
   ]
  },
  {
   "cell_type": "code",
   "execution_count": null,
   "metadata": {},
   "outputs": [],
   "source": [
    "my_mean = np.mean(my_values)\n",
    "my_mean"
   ]
  },
  {
   "cell_type": "markdown",
   "metadata": {},
   "source": [
    "#### Medians \n",
    "\n",
    "To find the median of a sample, pass the array to `np.median`."
   ]
  },
  {
   "cell_type": "markdown",
   "metadata": {},
   "source": [
    "<div class=\"alert alert-info\">\n",
    "\n",
    "**QUESTION:** Save the median of your sample values `my_values` to `my_median` using `np.median`.\n",
    "\n",
    "</div>"
   ]
  },
  {
   "cell_type": "code",
   "execution_count": null,
   "metadata": {},
   "outputs": [],
   "source": [
    "my_median = ...\n",
    "my_median"
   ]
  },
  {
   "cell_type": "markdown",
   "metadata": {},
   "source": [
    "#### Modes\n",
    "\n",
    "The `numpy` library does not have a function to compute the mode of a dataset. However, another library called `scipy` has a submodule `stats`, which we have already imported for you, which _does_ have a mode function. The call to this function is `stats.mode()` and it also accepts arrays of values."
   ]
  },
  {
   "cell_type": "markdown",
   "metadata": {},
   "source": [
    "<div class=\"alert alert-info\">\n",
    "\n",
    "**QUESTION:** Fill in the function call below to set `my_mode` to the mode of your sample.\n",
    "\n",
    "</div>"
   ]
  },
  {
   "cell_type": "code",
   "execution_count": null,
   "metadata": {},
   "outputs": [],
   "source": [
    "my_mode = stats.mode(...)\n",
    "my_mode"
   ]
  },
  {
   "cell_type": "markdown",
   "metadata": {},
   "source": [
    "<div class=\"alert alert-info\">\n",
    "\n",
    "**QUESTION:** Which of the values computed above is most representative of the sample you drew from the dataset?\n",
    "\n",
    "</div>"
   ]
  },
  {
   "cell_type": "markdown",
   "metadata": {},
   "source": [
    "_Type your answer here, replacing this text._"
   ]
  },
  {
   "cell_type": "markdown",
   "metadata": {},
   "source": [
    "---\n",
    "\n",
    "## Submission\n",
    "\n",
    "Congrats on finishing another lab notebook! To turn in this lab assignment, go to File > Download as > PDF via Chrome and upload the PDF to bCourses.\n",
    "\n",
    "---\n",
    "Notebook developed by: Chris Pyles\n",
    "\n",
    "Data Science Modules: http://data.berkeley.edu/education/modules"
   ]
  },
  {
   "cell_type": "markdown",
   "metadata": {},
   "source": [
    " "
   ]
  }
 ],
 "metadata": {
  "kernelspec": {
   "display_name": "Python 3",
   "language": "python",
   "name": "python3"
  },
  "language_info": {
   "codemirror_mode": {
    "name": "ipython",
    "version": 3
   },
   "file_extension": ".py",
   "mimetype": "text/x-python",
   "name": "python",
   "nbconvert_exporter": "python",
   "pygments_lexer": "ipython3",
   "version": "3.6.8"
  },
  "varInspector": {
   "cols": {
    "lenName": 16,
    "lenType": 16,
    "lenVar": 40
   },
   "kernels_config": {
    "python": {
     "delete_cmd_postfix": "",
     "delete_cmd_prefix": "del ",
     "library": "var_list.py",
     "varRefreshCmd": "print(var_dic_list())"
    },
    "r": {
     "delete_cmd_postfix": ") ",
     "delete_cmd_prefix": "rm(",
     "library": "var_list.r",
     "varRefreshCmd": "cat(var_dic_list()) "
    }
   },
   "types_to_exclude": [
    "module",
    "function",
    "builtin_function_or_method",
    "instance",
    "_Feature"
   ],
   "window_display": false
  }
 },
 "nbformat": 4,
 "nbformat_minor": 2
}
